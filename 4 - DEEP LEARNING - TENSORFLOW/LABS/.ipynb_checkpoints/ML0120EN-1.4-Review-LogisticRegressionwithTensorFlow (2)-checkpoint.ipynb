{
 "cells": [
  {
   "cell_type": "markdown",
   "metadata": {},
   "source": [
    "<h2><center><font color='blue'>REGRESIÓN LOGÍSTICA</font></center></h2>\n",
    "\n",
    "<h3>Objetivos<h3>    \n",
    "<h5> 1. Diferencia entre regresión lineal y logística</h5>\n",
    "<h5> 2. Regresión logística en TensorFlow </h5>\n",
    "<h5> 3. Entrenando el modelo </h5>\n"
   ]
  },
  {
   "cell_type": "markdown",
   "metadata": {},
   "source": [
    "## Tabla de contenido\n",
    "\n",
    "\n",
    "<div class=\"alert alert-block alert-info\" style=\"margin-top: 20px\">\n",
    "<br>\n",
    "<h2>Table of Contents</h2>\n",
    "\n",
    "<ol>\n",
    "    <li><a href=\"#ref1\">Regresión Lineal vs Regresión Logística</a></li>\n",
    "    <li><a href=\"#ref2\">Regresión logística en TensorFlow</a></li>\n",
    "    <li><a href=\"#ref3\">Entrenamiento</a></li>\n",
    "</ol>    \n",
    "</div>\n",
    "<p></p>\n",
    "<br>\n",
    "\n",
    "<hr>\n"
   ]
  },
  {
   "cell_type": "markdown",
   "metadata": {},
   "source": [
    "<a id=\"ref1\"></a>\n",
    "\n",
    "<h2>Diferencia entre regresión lineal y logística</h2>\n",
    "\n",
    "Mientras que la regresión lineal es útil para estimar valores continuos (por ejemplo estimar el precio de una casa) no es la mejor herramienta para predecir la clase a la que pertenece un punto de datos. Para brindar un estimado para la clasificación, necesitamos una guía que nos ayude a saber la clase más probable para un punto de datos, para esto usamos regresión logística.\n",
    "\n",
    "\n",
    "\n",
    "<div class=\"alert alert-success alertsuccess\" style=\"margin-top: 20px\">\n",
    "<font size=\"3\"><strong>Recordemos la regresión lineal:</strong></font>\n",
    "<br>\n",
    "<br>\n",
    "La regresión lineal encuentra una función que relaciona una variable continua dependiente y con algunos predictores (variables independientes) x1, x2,..... La regresión lineal simple asume una función de la forma:    \n",
    "<br><br>\n",
    "$$\n",
    "y = w0 + w1 \\times x1 + w2 \\times x2 + \\cdots\n",
    "$$\n",
    "<br>\n",
    "y encuentra los valores de <i>w0</i>, <i>w1</i>, <i>w2</i>, etc. El término <i>w0</i> es la \"intercepción\" o \"término constante\" (que se muestra como <i>b</i> en la fórmula de abajo):\n",
    "<br><br>\n",
    "$$\n",
    "Y = W X + b\n",
    "$$\n",
    "<p></p>\n",
    "\n",
    "</div>\n",
    "\n",
    "La regresión logística es una variación de la regresión lineal, útil cuando la variable dependiente y es categórica.\n",
    "Produce una fórmula que predice la probabilidad de la etiqueta de clase como una función de las variables independientes.\n",
    "\n",
    "A pesar del nombre logística, es en realidad un modelo de clasificación probabilístico. La regresión logística ejusta una curva especial en forma de S tomando la regresión lineal y transformando el estimado numérico en una probabilidad usando la siguiente función:\n",
    "\n",
    "\n",
    "$$\n",
    "ProbabilityOfaClass = \\\\theta(y) = \\frac{e^y}{1 + e^y} = exp(y) / (1 + exp(y)) = p \n",
    "$$\n",
    "\n",
    "que produce valores de p entre 0 (cuando y se aproxima a menos infinito) y 1 (cuando y se aproxima a más infinito).\n",
    "\n",
    "En esta ecuación, y es el resultado de la regresión (la suma de las variables ponderada por los coeficientes), exp es la función exponencial y theta es la función logística.\n",
    "\n",
    "También pudo haber visto esta función antes, con otra configuración:\n",
    "\n",
    "$$\n",
    "ProbabilityOfaClass = \\\\theta(y) = \\frac{1}{1+e^{-y}}\n",
    "$$\n",
    "\n",
    "En resumen, la regresión logística pasa la entrada a través de la función logística/sigmoide y luego trata el resultado como una probabilidad:\n",
    "\n",
    "<img src=\"https://ibm.box.com/shared/static/kgv9alcghmjcv97op4d6onkyxevk23b1.png\" width=\"400\" align=\"center\">\n"
   ]
  },
  {
   "cell_type": "markdown",
   "metadata": {},
   "source": [
    "* * *\n"
   ]
  },
  {
   "cell_type": "markdown",
   "metadata": {},
   "source": [
    "<a id=\"ref2\"></a>\n",
    "\n",
    "<h2>Regresión Logística en TensorFlow</h2>\n"
   ]
  },
  {
   "cell_type": "code",
   "execution_count": 1,
   "metadata": {},
   "outputs": [],
   "source": [
    "#!pip install grpcio==1.24.3\n",
    "#!pip install tensorflow==2.2.0"
   ]
  },
  {
   "cell_type": "markdown",
   "metadata": {},
   "source": [
    "**Restart kernel for latest version of TensorFlow to be activated**\n"
   ]
  },
  {
   "cell_type": "markdown",
   "metadata": {},
   "source": [
    "Importamos las librerías necesarias:\n"
   ]
  },
  {
   "cell_type": "code",
   "execution_count": 2,
   "metadata": {},
   "outputs": [],
   "source": [
    "import tensorflow as tf\n",
    "import pandas as pd\n",
    "import numpy as np\n",
    "import time\n",
    "from sklearn.datasets import load_iris\n",
    "from sklearn.model_selection import train_test_split\n",
    "import matplotlib.pyplot as plt"
   ]
  },
  {
   "cell_type": "code",
   "execution_count": 3,
   "metadata": {},
   "outputs": [],
   "source": [
    "if not tf.__version__ == '2.2.0':\n",
    "    print(tf.__version__)\n",
    "    raise ValueError('please upgrade to TensorFlow 2.2.0, or restart your Kernel (Kernel->Restart & Clear Output)')"
   ]
  },
  {
   "cell_type": "markdown",
   "metadata": {},
   "source": [
    "IMPORTANTE => Reinicie el kernel haciendo clic en \"Kernel\"->\"Restart and Clear Outout\" y espere a que todas las salidas desaparezcan. Con esto puede se confirma los cambios han sido tomados.\n"
   ]
  },
  {
   "cell_type": "markdown",
   "metadata": {},
   "source": [
    "Cargaremos el dataset a utilizar. Usaremos el dataset <code>iris</code> que está incorporado, así que no hay necesidad de preprocesarlo y podemos ir a manipularlo directamente.Separamos el dataset en xs e ys y luego entrenamos y testeamos.\n"
   ]
  },
  {
   "cell_type": "markdown",
   "metadata": {},
   "source": [
    "<h3>Entendiendo los datos</h3>\n",
    "\n",
    "<h4><code>Iris Dataset</code>:</h4>\n",
    "El dataset consiste de 50 muestras de cada una de 3 especies de Iris (setosa, virginica y versicolor). En total tiene 150 registros y 5 atributos (largo del pétalo, ancho del pétalo, largo del sépalo, ancho del sépalo y especie).\n",
    "<a href=\"https://archive.ics.uci.edu/ml/datasets/iris\">Dataset source</a>\n",
    "\n",
    "Atributos\n",
    "Variable independiente\n",
    "\n",
    "<ul>\n",
    "    <li>petal length</li>\n",
    "    <li>petal width</li>\n",
    "    <li>sepal length</li>\n",
    "    <li>sepal width</li>\n",
    "</ul>\n",
    "Variable dependiente\n",
    "<ul>    \n",
    "    <li>Species (especie)\n",
    "        <ul>\n",
    "            <li>Iris setosa</li>\n",
    "            <li>Iris virginica</li>\n",
    "            <li>Iris versicolor</li>\n",
    "        </ul>\n",
    "    </li>\n",
    "</ul>\n",
    "<br>\n"
   ]
  },
  {
   "cell_type": "code",
   "execution_count": 4,
   "metadata": {},
   "outputs": [],
   "source": [
    "iris = load_iris()\n",
    "iris_X, iris_y = iris.data[:-1,:], iris.target[:-1]\n",
    "iris_y= pd.get_dummies(iris_y).values\n",
    "trainX, testX, trainY, testY = train_test_split(iris_X, iris_y, test_size=0.33, random_state=42)"
   ]
  },
  {
   "cell_type": "markdown",
   "metadata": {},
   "source": [
    "Ahora definimos x e y. Estas variables tendrán nuestros datos (tanto características como etiquetas). También necesitamos darles formas que correspondan a la forma de nuestros datos.\n"
   ]
  },
  {
   "cell_type": "code",
   "execution_count": 5,
   "metadata": {},
   "outputs": [
    {
     "name": "stdout",
     "output_type": "stream",
     "text": [
      "numFeatures is :  4\n",
      "numLabels is :  3\n"
     ]
    }
   ],
   "source": [
    "# numFeatures es el número de características en nuestros datos de entrada\n",
    "# Aquí es '4'.\n",
    "numFeatures = trainX.shape[1]\n",
    "print('numFeatures is : ', numFeatures )\n",
    "# numLabels es el número de clases al que nuestro dato puede pertenecer\n",
    "# Aquí es '3'.\n",
    "numLabels = trainY.shape[1]\n",
    "print('numLabels is : ', numLabels )\n",
    "\n",
    "#X = tf.Variable( np.identity(numFeatures), tf.TensorShape(numFeatures),dtype='float32') # Iris has 4 features, so X is a tensor to hold our data.\n",
    "#yGold = tf.Variable(np.array([1,1,1]),shape=tf.TensorShape(numLabels),dtype='float32') # This will be our correct answers matrix for 3 classes."
   ]
  },
  {
   "cell_type": "code",
   "execution_count": 6,
   "metadata": {},
   "outputs": [],
   "source": [
    "trainX = tf.constant(trainX, dtype='float32')\n",
    "trainY = tf.constant(trainY, dtype='float32')\n",
    "testX = tf.constant(testX, dtype='float32')\n",
    "testY = tf.constant(testY, dtype='float32')"
   ]
  },
  {
   "cell_type": "markdown",
   "metadata": {},
   "source": [
    "<h3>Establecer pesos y sesgos del modelo</h3>\n",
    "\n",
    "Inicializamos W y b como tensores de ceros. Estas variables son los objetos que definen la estructura de nuestro modelo de regresión, y podemos guardarlos luego del entrenamiento para reutilizarlos luego.\n",
    "\n",
    "Definimos 2 variables como nuestros parámetros. Estas variables tendrán los pesos y sesgos de nuestro modelo y serán continuamente actualizadas durante el entrenamiento.\n",
    "\n",
    "W tiene forma [4, 3] pues queremos multiplicar las entradas que son vecstores 4-dimensionales por el para producir vectores de 3 dimensiones (ya que ay 3 clases). b tiene la forma [3] para poder sumárselo a la salida.\n",
    "\n",
    "Las variables en TensorFlow necesitan ser inicializadas, por ejemplo con ceros.\n",
    "\n"
   ]
  },
  {
   "cell_type": "code",
   "execution_count": 7,
   "metadata": {},
   "outputs": [],
   "source": [
    "W = tf.Variable(tf.zeros([4, 3]))  # 4-dimensional input and  3 classes\n",
    "b = tf.Variable(tf.zeros([3])) # 3-dimensional output [0,0,1],[0,1,0],[1,0,0]"
   ]
  },
  {
   "cell_type": "code",
   "execution_count": 8,
   "metadata": {},
   "outputs": [],
   "source": [
    "#Randomly sample from a normal distribution with standard deviation .01\n",
    "\n",
    "weights = tf.Variable(tf.random.normal([numFeatures,numLabels],\n",
    "                                       mean=0.,\n",
    "                                       stddev=0.01,\n",
    "                                       name=\"weights\"),dtype='float32')\n",
    "\n",
    "\n",
    "bias = tf.Variable(tf.random.normal([1,numLabels],\n",
    "                                    mean=0.,\n",
    "                                    stddev=0.01,\n",
    "                                    name=\"bias\"))\n"
   ]
  },
  {
   "cell_type": "markdown",
   "metadata": {},
   "source": [
    "<h3>Modelo de regresión logística</h3>\n",
    "\n",
    "Ahora definimos nuestras operaciones para ejecutar apropiadamente la regresión logística. La regresión logística típicamente se piensa como una sola ecuación:\n",
    "\n",
    "$$\n",
    "ŷ =sigmoid(WX+b)\n",
    "$$\n",
    "\n",
    "Sin embargo, por claridad, la separamos en 3 componentes principales:\n",
    "\n",
    "\n",
    "-   una operación de multiplicación entre una matriz de pesos y una de características, \n",
    "-   una suma de las características ponderadas y el término de sesgo, \n",
    "-   la aplicación de la función sigmoide. \n",
    "\n",
    "Así, encontrará estos componentes definidos en 3 operaciones debajo:\n"
   ]
  },
  {
   "cell_type": "code",
   "execution_count": 9,
   "metadata": {},
   "outputs": [],
   "source": [
    "# Three-component breakdown of the Logistic Regression equation.\n",
    "# Note that these feed into each other.\n",
    "def logistic_regression(x):\n",
    "    apply_weights_OP = tf.matmul(x, weights, name=\"apply_weights\")\n",
    "    add_bias_OP = tf.add(apply_weights_OP, bias, name=\"add_bias\") \n",
    "    activation_OP = tf.nn.sigmoid(add_bias_OP, name=\"activation\")\n",
    "    return activation_OP"
   ]
  },
  {
   "cell_type": "markdown",
   "metadata": {},
   "source": [
    "En TensorFlow la función logística es implementada en la función nn.sigmoid."
   ]
  },
  {
   "cell_type": "markdown",
   "metadata": {},
   "source": [
    "<hr>\n"
   ]
  },
  {
   "cell_type": "markdown",
   "metadata": {},
   "source": [
    "<a id=\"ref3\"></a>\n",
    "\n",
    "<h2>Entrenamiento</h2>\n",
    "\n",
    "El algoritmo de aprendizaje es cómo buscamos el mejor vector de pesos (${\\\\bf w}$). Esta búsqueda es un problema de optimización que intenta minimizar una medida de costo/error. \n",
    "\n",
    "<b>Qué nos dice que nuestro modelo es malo?</b>  \n",
    "Su costo o pérdida; por tanto queremos minimizarlo.\n",
    "\n",
    "<h3>Función de costo</h3>\n",
    "Antes de definir nuestra función de costo, necesitamos definir cuánto tiempo vamos a entrenar nuestro modelo y cómo deberíamos definir la tasa de aprendizaje.\n"
   ]
  },
  {
   "cell_type": "code",
   "execution_count": 10,
   "metadata": {},
   "outputs": [],
   "source": [
    "# número de epochs en el entrenamiento\n",
    "numEpochs = 700\n",
    "\n",
    "# Definición de nuestras iteraciones de tasa de aprendizaje (decaer)\n",
    "learningRate = tf.keras.optimizers.schedules.ExponentialDecay(initial_learning_rate=0.0008,\n",
    "                                          decay_steps=trainX.shape[0],\n",
    "                                          decay_rate= 0.95,\n",
    "                                          staircase=True)"
   ]
  },
  {
   "cell_type": "markdown",
   "metadata": {},
   "source": [
    "<b>Cuál es la función de costo en nuestro modelo?</b>  \n",
    "Utilizaremos MSE (Squared Mean Error)\n",
    "\n",
    "<b>Cómo minimizamos la función de costo?</b>  \n",
    "No podemos usar mínimos cuadrados aquí, por lo que usaremos el gradiente descendente. Específicamente usaremos el gradiente descendente por lotes.\n"
   ]
  },
  {
   "cell_type": "code",
   "execution_count": 11,
   "metadata": {},
   "outputs": [],
   "source": [
    "#Función de costo - Squared Mean Error\n",
    "loss_object = tf.keras.losses.MeanSquaredLogarithmicError()\n",
    "optimizer = tf.keras.optimizers.SGD(learningRate)"
   ]
  },
  {
   "cell_type": "markdown",
   "metadata": {},
   "source": [
    "Operaciones extra para realizar un seguimiento de la eficiencia del modelo en el tiempo.\n"
   ]
  },
  {
   "cell_type": "code",
   "execution_count": 12,
   "metadata": {},
   "outputs": [],
   "source": [
    "# Accuracy metric.\n",
    "def accuracy(y_pred, y_true):\n",
    "# Predicted class is the index of the highest score in prediction vector (i.e. argmax).\n",
    "\n",
    "    correct_prediction = tf.equal(tf.argmax(y_pred, 1), tf.argmax(y_true, 1))\n",
    "\n",
    "    return tf.reduce_mean(tf.cast(correct_prediction, tf.float32))"
   ]
  },
  {
   "cell_type": "markdown",
   "metadata": {},
   "source": [
    "Primero envolvemos la computación dentro de un GradientTape para la diferenciación automática. Luego computamos los gradientes y actualizamos W y b.\n"
   ]
  },
  {
   "cell_type": "code",
   "execution_count": 13,
   "metadata": {},
   "outputs": [],
   "source": [
    "# Optimization process. \n",
    "\n",
    "def run_optimization(x, y):\n",
    "    with tf.GradientTape() as g:\n",
    "        pred = logistic_regression(x)\n",
    "        loss = loss_object(pred, y)\n",
    "    gradients = g.gradient(loss, [weights, bias])\n",
    "    optimizer.apply_gradients(zip(gradients, [weights, bias]))"
   ]
  },
  {
   "cell_type": "markdown",
   "metadata": {},
   "source": [
    "Ahora ejecutamos nuestras operaciones. Comenzaremos con las operaciones involucradas en la fase de predicción (la propia regresión logística)\n"
   ]
  },
  {
   "cell_type": "markdown",
   "metadata": {},
   "source": [
    "Definimos y ejecutamos el loop de entrenamiento:\n"
   ]
  },
  {
   "cell_type": "code",
   "execution_count": 14,
   "metadata": {},
   "outputs": [
    {
     "name": "stdout",
     "output_type": "stream",
     "text": [
      "step 0, training accuracy 0.6, loss 0.137958, change in loss 0.137958\n",
      "step 10, training accuracy 0.54, loss 0.137358, change in loss 0.000600293\n",
      "step 20, training accuracy 0.42, loss 0.136765, change in loss 0.000592604\n",
      "step 30, training accuracy 0.4, loss 0.136181, change in loss 0.0005849\n",
      "step 40, training accuracy 0.38, loss 0.135603, change in loss 0.000577122\n",
      "step 50, training accuracy 0.32, loss 0.135034, change in loss 0.000569314\n",
      "step 60, training accuracy 0.3, loss 0.134473, change in loss 0.000561491\n",
      "step 70, training accuracy 0.3, loss 0.133919, change in loss 0.000553638\n",
      "step 80, training accuracy 0.3, loss 0.133373, change in loss 0.00054577\n",
      "step 90, training accuracy 0.3, loss 0.132835, change in loss 0.000537872\n",
      "step 100, training accuracy 0.3, loss 0.132311, change in loss 0.000524759\n",
      "step 110, training accuracy 0.3, loss 0.131814, change in loss 0.000496283\n",
      "step 120, training accuracy 0.3, loss 0.131325, change in loss 0.00048916\n",
      "step 130, training accuracy 0.3, loss 0.130843, change in loss 0.000482082\n",
      "step 140, training accuracy 0.3, loss 0.130368, change in loss 0.000475019\n",
      "step 150, training accuracy 0.3, loss 0.1299, change in loss 0.000467971\n",
      "step 160, training accuracy 0.3, loss 0.129439, change in loss 0.000460953\n",
      "step 170, training accuracy 0.3, loss 0.128985, change in loss 0.000453964\n",
      "step 180, training accuracy 0.3, loss 0.128538, change in loss 0.00044702\n",
      "step 190, training accuracy 0.3, loss 0.128098, change in loss 0.000440091\n",
      "step 200, training accuracy 0.3, loss 0.127671, change in loss 0.000426784\n",
      "step 210, training accuracy 0.3, loss 0.127266, change in loss 0.000405341\n",
      "step 220, training accuracy 0.3, loss 0.126867, change in loss 0.000399217\n",
      "step 230, training accuracy 0.3, loss 0.126474, change in loss 0.000393167\n",
      "step 240, training accuracy 0.3, loss 0.126086, change in loss 0.000387132\n",
      "step 250, training accuracy 0.3, loss 0.125705, change in loss 0.000381172\n",
      "step 260, training accuracy 0.3, loss 0.12533, change in loss 0.000375241\n",
      "step 270, training accuracy 0.3, loss 0.124961, change in loss 0.000369385\n",
      "step 280, training accuracy 0.3, loss 0.124597, change in loss 0.000363581\n",
      "step 290, training accuracy 0.3, loss 0.124239, change in loss 0.000357836\n",
      "step 300, training accuracy 0.3, loss 0.123894, change in loss 0.000345148\n",
      "step 310, training accuracy 0.3, loss 0.123565, change in loss 0.00032942\n",
      "step 320, training accuracy 0.3, loss 0.12324, change in loss 0.000324406\n",
      "step 330, training accuracy 0.3, loss 0.122921, change in loss 0.000319421\n",
      "step 340, training accuracy 0.3, loss 0.122606, change in loss 0.000314504\n",
      "step 350, training accuracy 0.3, loss 0.122297, change in loss 0.000309654\n",
      "step 360, training accuracy 0.3, loss 0.121992, change in loss 0.000304863\n",
      "step 370, training accuracy 0.3, loss 0.121692, change in loss 0.000300117\n",
      "step 380, training accuracy 0.3, loss 0.121396, change in loss 0.000295416\n",
      "step 390, training accuracy 0.3, loss 0.121105, change in loss 0.000290804\n",
      "step 400, training accuracy 0.3, loss 0.120826, change in loss 0.000279143\n",
      "step 410, training accuracy 0.3, loss 0.120558, change in loss 0.000267856\n",
      "step 420, training accuracy 0.3, loss 0.120295, change in loss 0.000263833\n",
      "step 430, training accuracy 0.3, loss 0.120035, change in loss 0.000259891\n",
      "step 440, training accuracy 0.3, loss 0.119779, change in loss 0.000255965\n",
      "step 450, training accuracy 0.3, loss 0.119527, change in loss 0.000252113\n",
      "step 460, training accuracy 0.3, loss 0.119278, change in loss 0.000248298\n",
      "step 470, training accuracy 0.3, loss 0.119034, change in loss 0.000244558\n",
      "step 480, training accuracy 0.3, loss 0.118793, change in loss 0.000240855\n",
      "step 490, training accuracy 0.3, loss 0.118556, change in loss 0.000237197\n",
      "step 500, training accuracy 0.3, loss 0.118329, change in loss 0.000226647\n",
      "step 510, training accuracy 0.3, loss 0.11811, change in loss 0.000218749\n",
      "step 520, training accuracy 0.3, loss 0.117895, change in loss 0.000215575\n",
      "step 530, training accuracy 0.3, loss 0.117682, change in loss 0.000212468\n",
      "step 540, training accuracy 0.3, loss 0.117473, change in loss 0.000209406\n",
      "step 550, training accuracy 0.3, loss 0.117267, change in loss 0.000206366\n",
      "step 560, training accuracy 0.3, loss 0.117063, change in loss 0.000203401\n",
      "step 570, training accuracy 0.3, loss 0.116863, change in loss 0.000200473\n",
      "step 580, training accuracy 0.3, loss 0.116665, change in loss 0.000197552\n",
      "step 590, training accuracy 0.3, loss 0.11647, change in loss 0.000194721\n",
      "step 600, training accuracy 0.3, loss 0.116285, change in loss 0.000185221\n",
      "step 610, training accuracy 0.3, loss 0.116105, change in loss 0.00017985\n",
      "step 620, training accuracy 0.3, loss 0.115928, change in loss 0.000177361\n",
      "step 630, training accuracy 0.3, loss 0.115753, change in loss 0.00017494\n",
      "step 640, training accuracy 0.3, loss 0.11558, change in loss 0.000172555\n",
      "step 650, training accuracy 0.3, loss 0.11541, change in loss 0.000170201\n",
      "step 660, training accuracy 0.3, loss 0.115242, change in loss 0.000167876\n",
      "step 670, training accuracy 0.3, loss 0.115077, change in loss 0.000165574\n",
      "step 680, training accuracy 0.3, loss 0.114914, change in loss 0.000163317\n",
      "step 690, training accuracy 0.3, loss 0.114752, change in loss 0.000161104\n",
      "final accuracy on test set: 0.3\n"
     ]
    }
   ],
   "source": [
    "# Initialize reporting variables\n",
    "display_step = 10\n",
    "epoch_values = []\n",
    "accuracy_values = []\n",
    "loss_values = []\n",
    "loss = 0\n",
    "diff = 1\n",
    "# Training epochs\n",
    "for i in range(numEpochs):\n",
    "    if i > 1 and diff < .0001:\n",
    "        print(\"change in loss %g; convergence.\"%diff)\n",
    "        break\n",
    "    else:\n",
    "        # Run training step\n",
    "        run_optimization(trainX, trainY)\n",
    "        \n",
    "        # Report occasional stats\n",
    "        if i % display_step == 0:\n",
    "            # Add epoch to epoch_values\n",
    "            epoch_values.append(i)\n",
    "            \n",
    "            pred = logistic_regression(testX)\n",
    "\n",
    "            newLoss = loss_object(pred, testY)\n",
    "            # Add loss to live graphing variable\n",
    "            loss_values.append(newLoss)\n",
    "            \n",
    "            # Generate accuracy stats on test data\n",
    "            acc = accuracy(pred, testY)\n",
    "            accuracy_values.append(acc)\n",
    "            \n",
    "    \n",
    "            # Re-assign values for variables\n",
    "            diff = abs(newLoss - loss)\n",
    "            loss = newLoss\n",
    "\n",
    "            #generate print statements\n",
    "            print(\"step %d, training accuracy %g, loss %g, change in loss %g\"%(i, acc, newLoss, diff))\n",
    "\n",
    "        \n",
    "\n",
    "          \n",
    "\n",
    "# How well do we perform on held-out test data?\n",
    "print(\"final accuracy on test set: %s\" %acc.numpy())\n",
    "\n",
    "\n"
   ]
  },
  {
   "cell_type": "markdown",
   "metadata": {},
   "source": [
    "<b>Graficamos la pérdida para ver cómo se comporta</b>\n"
   ]
  },
  {
   "cell_type": "code",
   "execution_count": 15,
   "metadata": {
    "scrolled": true
   },
   "outputs": [
    {
     "name": "stderr",
     "output_type": "stream",
     "text": [
      "C:\\Users\\marco\\Anaconda3\\lib\\site-packages\\numpy\\core\\fromnumeric.py:3372: RuntimeWarning: Mean of empty slice.\n",
      "  return _methods._mean(a, axis=axis, dtype=dtype,\n",
      "C:\\Users\\marco\\Anaconda3\\lib\\site-packages\\numpy\\core\\_methods.py:170: RuntimeWarning: invalid value encountered in double_scalars\n",
      "  ret = ret.dtype.type(ret / rcount)\n"
     ]
    },
    {
     "data": {
      "image/png": "[encoded data removed]",
      "text/plain": [
       "<Figure size 432x288 with 1 Axes>"
      ]
     },
     "metadata": {
      "needs_background": "light"
     },
     "output_type": "display_data"
    }
   ],
   "source": [
    "%matplotlib inline\n",
    "import numpy as np\n",
    "import matplotlib.pyplot as plt\n",
    "plt.plot([np.mean(loss_values[i-50:i]) for i in range(len(loss_values))])\n",
    "plt.show()"
   ]
  },
  {
   "cell_type": "markdown",
   "metadata": {},
   "source": [
    "Para mejorara la perfomance pueden cambiarse distintos parámetros, como por ejemplo la cantidad de epochs. \n"
   ]
  }
 ],
 "metadata": {
  "kernelspec": {
   "display_name": "Python 3",
   "language": "python",
   "name": "python3"
  },
  "language_info": {
   "codemirror_mode": {
    "name": "ipython",
    "version": 3
   },
   "file_extension": ".py",
   "mimetype": "text/x-python",
   "name": "python",
   "nbconvert_exporter": "python",
   "pygments_lexer": "ipython3",
   "version": "3.8.5"
  }
 },
 "nbformat": 4,
 "nbformat_minor": 4
}
