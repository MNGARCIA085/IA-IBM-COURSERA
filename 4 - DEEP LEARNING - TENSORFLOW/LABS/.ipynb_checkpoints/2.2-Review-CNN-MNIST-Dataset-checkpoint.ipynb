{
 "cells": [
  {
   "cell_type": "markdown",
   "metadata": {},
   "source": [
    "<h1><center><font color='blue'> Redes neuronales convolucionales </font></center></h1>"
   ]
  },
  {
   "cell_type": "markdown",
   "metadata": {},
   "source": [
    "<h2>Introducción</h2>\n"
   ]
  },
  {
   "cell_type": "markdown",
   "metadata": {},
   "source": [
    "Estudiaremos el dataset del MNIST. Construiremos 2 redes neuronales para la clasificación de dígitos escritos a mano. La primera es una red simple, un perceptron multi-capa (MLP), y la segunda será una CNN.\n"
   ]
  },
  {
   "cell_type": "markdown",
   "metadata": {},
   "source": [
    "* * *\n"
   ]
  },
  {
   "cell_type": "markdown",
   "metadata": {},
   "source": [
    "<div class=\"alert alert-block alert-info\" style=\"margin-top: 20px\">\n",
    "<br>\n",
    "<h2>Tabla de contenido</h2>\n",
    "<ol>\n",
    "    <li><a href=\"#ref1\">Qué es deep learning</a></li>\n",
    "    <li><a href=\"#ref2\">Está funcionando TensorFlow?</a></li>\n",
    "    <li><a href=\"#ref3\">Primera parte: clasificar MNIST usando un modelo simple</a></li>\n",
    "    <li><a href=\"#ref4\">Evaluar el resultado</a></li>\n",
    "    <li><a href=\"#ref5\">Cómo mejorar nuestro modelo</a></li>\n",
    "    <li><a href=\"#ref6\">Segunda parte: Deep Learning aplicado sobre el MNIST</a></li>\n",
    "    <li><a href=\"#ref7\">Resumen de las CNNs</a></li>\n",
    "    <li><a href=\"#ref8\">Definir funciones y entrenar el modelo</a></li>\n",
    "    <li><a href=\"#ref9\">Evaluar el modelo</a></li>\n",
    "</ol>    \n",
    "</div>\n"
   ]
  },
  {
   "cell_type": "markdown",
   "metadata": {},
   "source": [
    "<hr>\n"
   ]
  },
  {
   "cell_type": "markdown",
   "metadata": {},
   "source": [
    "<a id=\"ref1\"></a>\n",
    "\n",
    "<h2>Qué es Deep Learning?</h2>\n"
   ]
  },
  {
   "cell_type": "markdown",
   "metadata": {},
   "source": [
    "<b>Resumen teórico:</b> El deep learning es una rama del machine learning basado en un conjunto de algoritmos que intentan modelar abstracciones de alto nivel en los datos usando múltiples capas de procesamiento, con estructuras complejas, o, de otro modo, compuestas por transformaciones no lineales.\n"
   ]
  },
  {
   "cell_type": "markdown",
   "metadata": {},
   "source": [
    "<img src=\"https://ibm.box.com/shared/static/gcbbrh440604cj2nksu3f44be87b8ank.png\" alt=\"HTML5 Icon\" style=\"width: 600px; height: 450px;\">\n",
    "<div style=\"text-align: center\"> Es hora del deep learning. Si nuestro cerebro funciona con más de una capa, por qué sería diferente con las máquinas? </div>\n"
   ]
  },
  {
   "cell_type": "markdown",
   "metadata": {},
   "source": [
    "<b>En la práctica, definimos el término \"Deep\":</b> En este contexto, deep (profundo) significa que estamos estudiando una red neuronal con múltiples capas ocultas, sin importar de qué tipo (convolucionales, de pooling, normalización, completamente conectadas, etc.). Varios papers señalan que las redes neuronales profundas con la arquitectura correcta y el ajuste apropiado de los hiperparámetros logran mejores resultados que las redes neuronales superficiales con el mismo poder computacional (por ejemplo el mismo número de neuronas o conexiones).\n",
    "\n"
   ]
  },
  {
   "cell_type": "markdown",
   "metadata": {},
   "source": [
    "<b>En la práctica, definimos \"Learning\" (aprendizaje):</b> En el contexto de aprendizaje supervisado, como el reconocimiento de dígitos, la parte de aprendizaje consiste en un objetivo/característica que es predecido usando un conjunto dado de observaciones para los cuales se conoce la etiqueta (label) verdadera. En nuestro caso la etiqueta será el dígito (0, 1, 2, 3, 4, 5, 6, 7, 8, 9) y las observaciones son la intensidad y posición relativa de los pixeles. Luego de cierto entrenamiemto, es posible generar una \"función\" que mapea entradas (imágenes de dígitos) a las salidas deseadas (tipo de dígito). El problema es qué tan bien mapea esta operación. Mientras se intenta generar esta \"función\", el proceso de entrenamiento continua hasta que el modelo alcanza el nivel deseado de precisión.\n"
   ]
  },
  {
   "cell_type": "markdown",
   "metadata": {},
   "source": [
    "<hr>\n"
   ]
  },
  {
   "cell_type": "markdown",
   "metadata": {},
   "source": [
    "<h2>Instalando TensorFlow </h2>\n"
   ]
  },
  {
   "cell_type": "code",
   "execution_count": 1,
   "metadata": {},
   "outputs": [],
   "source": [
    "#!pip install grpcio==1.24.3\n",
    "#!pip install tensorflow==2.2.0"
   ]
  },
  {
   "cell_type": "markdown",
   "metadata": {},
   "source": [
    "<b>Nota:</b> Esta notebook utiliza TensorFlow 2.2.\n"
   ]
  },
  {
   "cell_type": "code",
   "execution_count": 2,
   "metadata": {},
   "outputs": [],
   "source": [
    "import tensorflow as tf\n",
    "from IPython.display import Markdown, display\n",
    "\n",
    "def printmd(string):\n",
    "    display(Markdown('# <span style=\"color:red\">'+string+'</span>'))\n",
    "\n",
    "\n",
    "if not tf.__version__ == '2.2.0':\n",
    "    printmd('<<<<<!!!!! ERROR !!!! please upgrade to TensorFlow 2.2.0, or restart your Kernel (Kernel->Restart & Clear Output)>>>>>')"
   ]
  },
  {
   "cell_type": "markdown",
   "metadata": {},
   "source": [
    "Primero clasificaremos usando un perceptron multi-capa y luego usaremos el deep learning para mejorar los resultados.\n",
    "<a id=\"ref3\"></a>\n",
    "\n",
    "<h2>Primera parte: Clasificar usando un modelo simple</h2>\n"
   ]
  },
  {
   "cell_type": "markdown",
   "metadata": {},
   "source": [
    "Vamos a crear un perceptron multi-capa.\n"
   ]
  },
  {
   "cell_type": "markdown",
   "metadata": {},
   "source": [
    "<h3>Qué es MNIST?</h3>\n"
   ]
  },
  {
   "cell_type": "markdown",
   "metadata": {},
   "source": [
    "El MNIST es una base de datos de dígitos escritos a mano que tiene un conjunto de datos de entrenamiento de 60000 ejemplos y uno de test de 10000. Es un subconjunto de una conjunto más grande. Los dígitos han sido normalizados y centrados en una imagen de tamaño fijo.\n"
   ]
  },
  {
   "cell_type": "markdown",
   "metadata": {},
   "source": [
    "<h3>Importando el dataset del MNIST usando la característica incorporada de TensorFlow</h3>\n"
   ]
  },
  {
   "cell_type": "markdown",
   "metadata": {},
   "source": [
    "El MNIST es un dataset altamente optimizado y no contiene imágenes. Debe construir su propio código si quiere ver los dígitos reales.\n"
   ]
  },
  {
   "cell_type": "code",
   "execution_count": 3,
   "metadata": {},
   "outputs": [],
   "source": [
    "mnist = tf.keras.datasets.mnist\n",
    "(x_train, y_train), (x_test, y_test) = mnist.load_data()"
   ]
  },
  {
   "cell_type": "markdown",
   "metadata": {},
   "source": [
    "Los datos de características está entre 0 y 255, los normalizamos para mejorar la performance.\n"
   ]
  },
  {
   "cell_type": "code",
   "execution_count": 4,
   "metadata": {},
   "outputs": [],
   "source": [
    "x_train, x_test = x_train / 255.0, x_test / 255.0"
   ]
  },
  {
   "cell_type": "markdown",
   "metadata": {},
   "source": [
    "Miramos los primeros valores de etiquetas: \n"
   ]
  },
  {
   "cell_type": "code",
   "execution_count": 5,
   "metadata": {},
   "outputs": [
    {
     "name": "stdout",
     "output_type": "stream",
     "text": [
      "[5 0 4 1 9]\n"
     ]
    }
   ],
   "source": [
    "print(y_train[0:5])"
   ]
  },
  {
   "cell_type": "markdown",
   "metadata": {},
   "source": [
    "El esquema de etiqeutas actual identifica la categoría a la cual cada punto de datos pertenece (cada dígito escrito a mano es asignado a una categoría igual a su valor numérico). Debemos convertir esto a un vector con one-hot encoding. En contraste a la representación binaria, las etiquetas serán presentadas de forma tal que para representar un número N, el $N^{th}$ bit es 1, mientras que los otros son 0. A continuación se muestran ejemplos para el 0 y el 5:\n"
   ]
  },
  {
   "cell_type": "markdown",
   "metadata": {},
   "source": [
    "<pre>\n",
    "Number representation:    0\n",
    "Binary encoding:        [2^5]  [2^4]   [2^3]   [2^2]   [2^1]   [2^0]  \n",
    "Array/vector:             0      0       0       0       0       0 \n",
    "\n",
    "Number representation:    5\n",
    "Binary encoding:        [2^5]  [2^4]   [2^3]   [2^2]   [2^1]   [2^0]  \n",
    "Array/vector:             0      0       0       1       0       1  \n",
    "</pre>\n"
   ]
  },
  {
   "cell_type": "markdown",
   "metadata": {},
   "source": [
    "La representación ocon ne-hot encoding es:\n"
   ]
  },
  {
   "cell_type": "markdown",
   "metadata": {},
   "source": [
    "<pre>\n",
    "Number representation:    0\n",
    "One-hot encoding:        [5]   [4]    [3]    [2]    [1]   [0]  \n",
    "Array/vector:             0     0      0      0      0     1   \n",
    "\n",
    "Number representation:    5\n",
    "One-hot encoding:        [5]   [4]    [3]    [2]    [1]    [0]  \n",
    "Array/vector:             1     0      0      0      0      0   \n",
    "</pre>\n"
   ]
  },
  {
   "cell_type": "markdown",
   "metadata": {},
   "source": [
    "Esta es una operación estándar, y se muestra a continuación:\n"
   ]
  },
  {
   "cell_type": "code",
   "execution_count": 6,
   "metadata": {},
   "outputs": [
    {
     "name": "stdout",
     "output_type": "stream",
     "text": [
      "categorical labels\n",
      "[5 0 4 1 9]\n",
      "one hot encoded labels\n",
      "tf.Tensor(\n",
      "[[0. 0. 0. 0. 0. 1. 0. 0. 0. 0.]\n",
      " [1. 0. 0. 0. 0. 0. 0. 0. 0. 0.]\n",
      " [0. 0. 0. 0. 1. 0. 0. 0. 0. 0.]\n",
      " [0. 1. 0. 0. 0. 0. 0. 0. 0. 0.]\n",
      " [0. 0. 0. 0. 0. 0. 0. 0. 0. 1.]], shape=(5, 10), dtype=float32)\n"
     ]
    }
   ],
   "source": [
    "print(\"categorical labels\")\n",
    "print(y_train[0:5])\n",
    "\n",
    "# make labels one hot encoded\n",
    "y_train = tf.one_hot(y_train, 10)\n",
    "y_test = tf.one_hot(y_test, 10)\n",
    "\n",
    "print(\"one hot encoded labels\")\n",
    "print(y_train[0:5])"
   ]
  },
  {
   "cell_type": "markdown",
   "metadata": {},
   "source": [
    "<h3>Entendiendo los datos</h3>\n"
   ]
  },
  {
   "cell_type": "markdown",
   "metadata": {},
   "source": [
    "Los datos importados pueden dividirse como sigue:\n",
    "\n",
    "-   Training >>  Se usa para entrenar el modelo.\n",
    "    ```\n",
    "      - 60,000 puntos de datos\n",
    "      - x_train para las entradas\n",
    "      - y_train para las salidas (etiquetas)\n",
    "    ```\n",
    "-   Test >> Se usa para evaluar la performance en la \"vida real\".\n",
    "    ```\n",
    "      - 10,000 data points\n",
    "      - x_test for inputs\n",
    "      - y_test for outputs/labels\n",
    "    ```\n",
    "-   Validation data: no se utiliza en este ejemplo.\n"
   ]
  },
  {
   "cell_type": "code",
   "execution_count": 7,
   "metadata": {},
   "outputs": [
    {
     "name": "stdout",
     "output_type": "stream",
     "text": [
      "number of training examples: 60000\n",
      "number of test examples: 10000\n"
     ]
    }
   ],
   "source": [
    "print(\"number of training examples:\" , x_train.shape[0])\n",
    "print(\"number of test examples:\" , x_test.shape[0])"
   ]
  },
  {
   "cell_type": "markdown",
   "metadata": {},
   "source": [
    "La API de TensorFlow 2.x le permite definir tamaños de lotes como parte del dataset. También incorpora características mejoradas de I/O, y ésta es la forma recomendada de cargar datos. Esto le permite iterar a través de subconjuntos (lotes) de los datos durante el entrenamiento. Esta es una práctica común que mejora la performance al computar los gradientes sobre lotes más pequeños. Veremos esto en acción durante el paso de entrenamiento.\n",
    "\n",
    "Adicionalmente puede barajar el dataset si cree que hay una distribución sesgada de datos en el dataset original que puede resultar en lotes con diferentes distribuciones. No lo haremos aquí.\n"
   ]
  },
  {
   "cell_type": "code",
   "execution_count": 8,
   "metadata": {},
   "outputs": [],
   "source": [
    "train_ds = tf.data.Dataset.from_tensor_slices((x_train, y_train)).batch(50)\n",
    "test_ds = tf.data.Dataset.from_tensor_slices((x_test, y_test)).batch(50)"
   ]
  },
  {
   "cell_type": "markdown",
   "metadata": {},
   "source": [
    "<h3>Convirtiendo una imagen 2D en un vector 1D</h3>\n"
   ]
  },
  {
   "cell_type": "markdown",
   "metadata": {},
   "source": [
    "LAs imagénes del MNIST son imágenes en miniatura blanco y negro de 28x28 pixeles. Cada pixel es asignado a una intensidad (originalmente en la escala de 0 a 255). Para hacer la entrada más útil, necesitamos arreglarla en un vector 1D usando una estrategia consistente. Podemos usar Flatten para lograr esto.\n"
   ]
  },
  {
   "cell_type": "code",
   "execution_count": 9,
   "metadata": {},
   "outputs": [
    {
     "name": "stdout",
     "output_type": "stream",
     "text": [
      "(60000, 28, 28)\n",
      "(60000, 784)\n"
     ]
    }
   ],
   "source": [
    "# showing an example of the Flatten class and operation\n",
    "from tensorflow.keras.layers import Flatten\n",
    "flatten = Flatten(dtype='float32')\n",
    "\n",
    "\"original data shape\"\n",
    "print(x_train.shape)\n",
    "\n",
    "\"flattened shape\"\n",
    "print(flatten(x_train).shape)"
   ]
  },
  {
   "cell_type": "markdown",
   "metadata": {},
   "source": [
    "<img src=\"https://cf-courses-data.s3.us.cloud-object-storage.appdomain.cloud/IBMDeveloperSkillsNetwork-DL0120EN-SkillsNetwork/labs/Week2/Flatten.png\" alt=\"HTML5 Icon\" style=\"width:350px\"> \n",
    "\n",
    "<div style=\"text-align:center\">Illustration of the Flatten operation </div>\n"
   ]
  },
  {
   "cell_type": "markdown",
   "metadata": {},
   "source": [
    "<h3>Asignando pesos y sesgos a tensores nulos</h3>\n"
   ]
  },
  {
   "cell_type": "markdown",
   "metadata": {},
   "source": [
    "Vamos a crear los pesos y sesgos, para este propósito serán usados como arreglos rellenos con ceros. Los valores que escojamos aquí pueden ser críticos, pero veremos en la segunda parte cómo se hace de una mejor forma, en lugar de este tipo de inicialización. Como estos valores serán ajustados durante el proceso de optimización, los definimos usando `tf.Variable`.\n",
    "\n",
    "Nota. `tf.Variable` crea variables ajustables que están en el namespace global, así que cuidado al nombrarlas. \n"
   ]
  },
  {
   "cell_type": "code",
   "execution_count": 10,
   "metadata": {},
   "outputs": [],
   "source": [
    "# Weight tensor\n",
    "W = tf.Variable(tf.zeros([784, 10], tf.float32))\n",
    "# Bias tensor\n",
    "b = tf.Variable(tf.zeros([10], tf.float32))"
   ]
  },
  {
   "cell_type": "markdown",
   "metadata": {},
   "source": [
    "<h3>Agregando pesos y sesgos a la entrada</h3>\n"
   ]
  },
  {
   "cell_type": "markdown",
   "metadata": {},
   "source": [
    "La única diferencia para nuestra siguiente operación con la imagen de abajo es que estamos usando la convención matemática para lo que se está ejecutando en la ilustración.\n",
    "La operación tf.matmul realiza una multiplicación matricial engtre las entradas x y los pesos W; luegos se le suma el sesgo.\n"
   ]
  },
  {
   "cell_type": "markdown",
   "metadata": {},
   "source": [
    "<img src=\"https://ibm.box.com/shared/static/88ksiymk1xkb10rgk0jwr3jw814jbfxo.png\" alt=\"HTML5 Icon\" style=\"width:350px\"> \n",
    "<div style=\"text-align:center\">Ilustración que muestra cómo se agregan pesos y sesgos a las neuronas / nodos. </div>\n"
   ]
  },
  {
   "cell_type": "code",
   "execution_count": 11,
   "metadata": {},
   "outputs": [],
   "source": [
    "def forward(x):\n",
    "    return tf.matmul(x,W) + b"
   ]
  },
  {
   "cell_type": "markdown",
   "metadata": {},
   "source": [
    "<h3>Regresión Softmax</h3>\n"
   ]
  },
  {
   "cell_type": "markdown",
   "metadata": {},
   "source": [
    "Softmax es una función de activación que normalmente se utiliza en problemas de clasificación. Genera probabilidades para la salida. Por ejemplo, nuestro modelo no estará 100% seguro que un dígito sea el 9, en su lugar, la respuesta será una disribución de probabilidades donde, si el modelo está en lo correcto, el 9 tendrá una mayor probabilidad que los otros dígitos.\n",
    "\n",
    "Abajo se muestra el vector one-hot para una etiqueta dígito 9:\n"
   ]
  },
  {
   "cell_type": "raw",
   "metadata": {},
   "source": [
    "0 --> 0  \n",
    "1 --> 0 \n",
    "2 --> 0\n",
    "3 --> 0\n",
    "4 --> 0\n",
    "5 --> 0\n",
    "6 --> 0\n",
    "7 --> 0\n",
    "8 --> 0\n",
    "9 --> 1"
   ]
  },
  {
   "cell_type": "markdown",
   "metadata": {},
   "source": [
    "Una máquina no tiene esta certeza, así que queremos saber la opción más probable, así como qué tan seguros estamos de ella y cuáles son las mejores opciones siguientes. Abajo se muestra una distribución de probabilidad hipotética para el 9:\n"
   ]
  },
  {
   "cell_type": "raw",
   "metadata": {},
   "source": [
    "0 -->0.01  \n",
    "1 -->0.02  \n",
    "2 -->0.03  \n",
    "3 -->0.02  \n",
    "4 -->0.12  \n",
    "5 -->0.01  \n",
    "6 -->0.03\n",
    "7 -->0.06\n",
    "8 -->0.1\n",
    "9 -->0.6  "
   ]
  },
  {
   "cell_type": "markdown",
   "metadata": {},
   "source": [
    "La fórmula de softmax es:\n",
    "\n",
    "$$\\sigma(z_i) = \\frac{e^{z_i}}{\\sum{e^{z_i}}}$$\n"
   ]
  },
  {
   "cell_type": "code",
   "execution_count": 12,
   "metadata": {},
   "outputs": [
    {
     "name": "stdout",
     "output_type": "stream",
     "text": [
      "softmax calculation\n",
      "[8.8075405e-01 4.8839214e-05 1.1919710e-01]\n",
      "verifying normalization\n",
      "tf.Tensor(1.0, shape=(), dtype=float32)\n",
      "finding vector with largest value (label assignment)\n",
      "category 0\n"
     ]
    }
   ],
   "source": [
    "# a sample softmax calculation on an input vector\n",
    "vector = [10, 0.2, 8]\n",
    "softmax = tf.nn.softmax(vector)\n",
    "print(\"softmax calculation\")\n",
    "print(softmax.numpy())\n",
    "print(\"verifying normalization\")\n",
    "print(tf.reduce_sum(softmax))\n",
    "print(\"finding vector with largest value (label assignment)\")\n",
    "print(\"category\", tf.argmax(softmax).numpy())"
   ]
  },
  {
   "cell_type": "markdown",
   "metadata": {},
   "source": [
    "Ahora podemos definir la capa de salida:\n"
   ]
  },
  {
   "cell_type": "code",
   "execution_count": 13,
   "metadata": {},
   "outputs": [],
   "source": [
    "def activate(x):\n",
    "    return tf.nn.softmax(forward(x))"
   ]
  },
  {
   "cell_type": "markdown",
   "metadata": {},
   "source": [
    "La función logística se utiliza para la clasificación entre 2 clases, softmax es una generalización de ella que se puede usar en problemas multiclase:\n"
   ]
  },
  {
   "cell_type": "markdown",
   "metadata": {},
   "source": [
    "Crearemos una función `model` por conveniencia:\n"
   ]
  },
  {
   "cell_type": "code",
   "execution_count": 14,
   "metadata": {},
   "outputs": [],
   "source": [
    "def model(x):\n",
    "    x = flatten(x)\n",
    "    return activate(x)"
   ]
  },
  {
   "cell_type": "markdown",
   "metadata": {},
   "source": [
    "<h3>Función de costo</h3>\n"
   ]
  },
  {
   "cell_type": "markdown",
   "metadata": {},
   "source": [
    "Se utiliza para minimzar la diferencia entre las respuestas correctas y las estimadas por la red. Aquí usamos la función de entropía cruzada, que es una opción popular para los modelos categóricos. La función es definida en términos de probabilidades, que es por lo que debemos usar vectores normalizados. Está dada por:\n",
    "\n",
    "$$ CrossEntropy = \\sum{y_{Label}\\cdot \\log(y_{Prediction})}$$\n"
   ]
  },
  {
   "cell_type": "code",
   "execution_count": 16,
   "metadata": {},
   "outputs": [
    {
     "data": {
      "text/plain": [
       "138155.0"
      ]
     },
     "execution_count": 16,
     "metadata": {},
     "output_type": "execute_result"
    }
   ],
   "source": [
    "def cross_entropy(y_label, y_pred):\n",
    "    return (-tf.reduce_sum(y_label * tf.math.log(y_pred + 1.e-10)))\n",
    "# sumamos 1e-10 para prevenir errores en cálculos con 0\n",
    "\n",
    "# current loss function for unoptimized model\n",
    "cross_entropy(y_train, model(x_train)).numpy()"
   ]
  },
  {
   "cell_type": "markdown",
   "metadata": {},
   "source": [
    "<h3>Tipo de optimización: Gradiente Descendente</h3>\n"
   ]
  },
  {
   "cell_type": "markdown",
   "metadata": {},
   "source": [
    "Configuramos el optimizador para nuestra red. Hay varias optimizaciones disponibles, aquí usaremos el gradiente descendente.\n"
   ]
  },
  {
   "cell_type": "code",
   "execution_count": 17,
   "metadata": {},
   "outputs": [],
   "source": [
    "optimizer = tf.keras.optimizers.SGD(learning_rate=0.25)"
   ]
  },
  {
   "cell_type": "markdown",
   "metadata": {},
   "source": [
    "Ahora definimos el paso de entrenamiento. Este paso usa `GradientTape` para computar automáticamente las derivadas de las funciones que hemos creado manualmente y las aplica usando el optimizador SGD.\n"
   ]
  },
  {
   "cell_type": "code",
   "execution_count": 18,
   "metadata": {},
   "outputs": [],
   "source": [
    "def train_step(x, y ):\n",
    "    with tf.GradientTape() as tape:\n",
    "        #compute loss function\n",
    "        current_loss = cross_entropy( y, model(x))\n",
    "        # compute gradient of loss \n",
    "        #(This is automatic! Even with specialized funcctions!)\n",
    "        grads = tape.gradient( current_loss , [W,b] )\n",
    "        # Apply SGD step to our Variables W and b\n",
    "        optimizer.apply_gradients( zip( grads , [W,b] ) )     \n",
    "    return current_loss.numpy()"
   ]
  },
  {
   "cell_type": "markdown",
   "metadata": {},
   "source": [
    "<h3>Lotes de entrenamiento</h3>\n"
   ]
  },
  {
   "cell_type": "markdown",
   "metadata": {},
   "source": [
    "Entrenamos usando minibatch Gradient Descent.\n",
    "\n",
    "En la práctica, Batch Gradient Descent no es muy utilizado ya que es caro computacionalmente. Lo bueno de esto es que se tiene el gradiente verdadero, pero con el costo computacional de usar el dataset completo de una vez. Debido a esto, muchas redes usan minibatch (minilote) para el entrenamiento.\n",
    "\n",
    "Ya dividimos el dataset completo en lotes de 50 usando la API. Ahora podemos iterar a través de cada lote para computar el gradiente. Una vez que iteremos a través de todos los lotes en el dataset, completamos un **epoch** o un recorrido completo del dataset.\n",
    "\n"
   ]
  },
  {
   "cell_type": "code",
   "execution_count": 19,
   "metadata": {},
   "outputs": [
    {
     "name": "stdout",
     "output_type": "stream",
     "text": [
      "epoch  0 batch 500 loss: 229.69376\n",
      "epoch  0 batch 1000 loss: 202.74274\n",
      "end of epoch  0 loss 223948.16 accuracy 0.8145667\n",
      "epoch  1 batch 500 loss: 174.92044\n",
      "epoch  1 batch 1000 loss: 186.96243\n",
      "end of epoch  1 loss 211348.17 accuracy 0.8286\n",
      "epoch  2 batch 500 loss: 186.10545\n",
      "epoch  2 batch 1000 loss: 163.24713\n",
      "end of epoch  2 loss 211593.75 accuracy 0.82858336\n",
      "epoch  3 batch 500 loss: 148.40523\n",
      "epoch  3 batch 1000 loss: 155.515\n",
      "end of epoch  3 loss 209818.69 accuracy 0.83161664\n",
      "epoch  4 batch 500 loss: 227.55923\n",
      "epoch  4 batch 1000 loss: 187.68007\n",
      "end of epoch  4 loss 208617.53 accuracy 0.83203334\n",
      "epoch  5 batch 500 loss: 174.2301\n",
      "epoch  5 batch 1000 loss: 182.3869\n",
      "end of epoch  5 loss 208227.03 accuracy 0.83381665\n",
      "epoch  6 batch 500 loss: 200.66713\n",
      "epoch  6 batch 1000 loss: 215.69452\n",
      "end of epoch  6 loss 204451.73 accuracy 0.83783334\n",
      "epoch  7 batch 500 loss: 184.35281\n",
      "epoch  7 batch 1000 loss: 204.86383\n",
      "end of epoch  7 loss 203035.03 accuracy 0.8402333\n",
      "epoch  8 batch 500 loss: 170.1604\n",
      "epoch  8 batch 1000 loss: 189.75954\n",
      "end of epoch  8 loss 219992.73 accuracy 0.8225667\n",
      "epoch  9 batch 500 loss: 191.61276\n",
      "epoch  9 batch 1000 loss: 207.75928\n",
      "end of epoch  9 loss 200026.1 accuracy 0.8420333\n"
     ]
    }
   ],
   "source": [
    "# zeroing out weights in case you want to run this cell multiple times\n",
    "# Weight tensor\n",
    "W = tf.Variable(tf.zeros([784, 10],tf.float32))\n",
    "# Bias tensor\n",
    "b = tf.Variable(tf.zeros([10],tf.float32))\n",
    "\n",
    "loss_values=[]\n",
    "accuracies = []\n",
    "epochs = 10\n",
    "\n",
    "for i in range(epochs):\n",
    "    j=0\n",
    "    # each batch has 50 examples\n",
    "    for x_train_batch, y_train_batch in train_ds:\n",
    "        j+=1\n",
    "        current_loss = train_step(x_train_batch, y_train_batch)\n",
    "        if j%500==0: #reporting intermittent batch statistics\n",
    "            print(\"epoch \", str(i), \"batch\", str(j), \"loss:\", str(current_loss) ) \n",
    "    \n",
    "    # collecting statistics at each epoch...loss function and accuracy\n",
    "    #  loss function\n",
    "    current_loss = cross_entropy( y_train, model( x_train )).numpy()\n",
    "    loss_values.append(current_loss)\n",
    "    correct_prediction = tf.equal(tf.argmax(model(x_train), axis=1),\n",
    "                                  tf.argmax(y_train, axis=1))\n",
    "    #  accuracy\n",
    "    accuracy = tf.reduce_mean(tf.cast(correct_prediction, tf.float32)).numpy()\n",
    "    accuracies.append(accuracy)\n",
    "    print(\"end of epoch \", str(i), \"loss\", str(current_loss), \"accuracy\", str(accuracy) ) \n"
   ]
  },
  {
   "cell_type": "markdown",
   "metadata": {},
   "source": [
    "<h3>Tests y gráficas</h3>\n"
   ]
  },
  {
   "cell_type": "markdown",
   "metadata": {},
   "source": [
    "Es común ejecutar diagnósticos intermedios (como pérdida y precisión sobre el dataset completo) durante el entrenamiento. Aquí también computamos estadística sobre los datos de test. Las métricas de aptitud física para los datos de entrenamiento deben coincidir estrechamente con las de los datos test. Si las métricas de test son claramente menos favorables, esto puede ser una señal de sobreajuste.\n",
    "\n"
   ]
  },
  {
   "cell_type": "code",
   "execution_count": 20,
   "metadata": {},
   "outputs": [
    {
     "name": "stdout",
     "output_type": "stream",
     "text": [
      "training accuracy 0.8420333\n",
      "test accuracy 0.8355\n"
     ]
    }
   ],
   "source": [
    "correct_prediction_train = tf.equal(tf.argmax(model(x_train), axis=1),tf.argmax(y_train,axis=1))\n",
    "accuracy_train = tf.reduce_mean(tf.cast(correct_prediction_train, tf.float32)).numpy()\n",
    "\n",
    "correct_prediction_test = tf.equal(tf.argmax(model(x_test), axis=1),tf.argmax(y_test, axis=1))\n",
    "accuracy_test = tf.reduce_mean(tf.cast(correct_prediction_test, tf.float32)).numpy()\n",
    "\n",
    "print(\"training accuracy\", accuracy_train)\n",
    "print(\"test accuracy\", accuracy_test)"
   ]
  },
  {
   "cell_type": "markdown",
   "metadata": {},
   "source": [
    "<hr>\n"
   ]
  },
  {
   "cell_type": "markdown",
   "metadata": {},
   "source": [
    "Los siguientes gráficos muestran la performance de la optimización en cada epoch:\n"
   ]
  },
  {
   "cell_type": "code",
   "execution_count": 21,
   "metadata": {},
   "outputs": [
    {
     "data": {
      "text/plain": [
       "Text(0, 0.5, 'loss')"
      ]
     },
     "execution_count": 21,
     "metadata": {},
     "output_type": "execute_result"
    },
    {
     "data": {
      "image/png": "[encoded data removed]",
      "text/plain": [
       "<Figure size 720x432 with 1 Axes>"
      ]
     },
     "metadata": {
      "needs_background": "light"
     },
     "output_type": "display_data"
    }
   ],
   "source": [
    "import matplotlib.pyplot as plt\n",
    "%matplotlib inline\n",
    "plt.rcParams['figure.figsize'] = (10, 6)\n",
    "#print(loss_values)\n",
    "plt.plot(loss_values,'-ro')\n",
    "plt.title(\"loss per epoch\")\n",
    "plt.xlabel(\"epoch\")\n",
    "plt.ylabel(\"loss\")"
   ]
  },
  {
   "cell_type": "code",
   "execution_count": 22,
   "metadata": {},
   "outputs": [
    {
     "data": {
      "text/plain": [
       "Text(0, 0.5, 'accuracy')"
      ]
     },
     "execution_count": 22,
     "metadata": {},
     "output_type": "execute_result"
    },
    {
     "data": {
      "image/png": "[encoded data removed]",
      "text/plain": [
       "<Figure size 720x432 with 1 Axes>"
      ]
     },
     "metadata": {
      "needs_background": "light"
     },
     "output_type": "display_data"
    }
   ],
   "source": [
    "plt.plot(accuracies,'-ro')\n",
    "plt.title(\"accuracy per epoch\")\n",
    "plt.xlabel(\"epoch\")\n",
    "plt.ylabel(\"accuracy\")"
   ]
  },
  {
   "cell_type": "markdown",
   "metadata": {},
   "source": [
    "<a id=\"ref4\"></a>\n",
    "\n",
    "<h2>Evaluando el resultado final</h2>\n"
   ]
  },
  {
   "cell_type": "markdown",
   "metadata": {},
   "source": [
    "84% de precisión no está mal considerando la simplicidad del modelo, pero una precisión mayor al 90% se ha logrado antes.\n"
   ]
  },
  {
   "cell_type": "markdown",
   "metadata": {},
   "source": [
    "<a id=\"ref5\"></a>\n",
    "\n",
    "<h2>Cómo mejorar nuestro modelo?</h2>\n"
   ]
  },
  {
   "cell_type": "markdown",
   "metadata": {},
   "source": [
    "<h4>Hay varias opciones:</h4>\n",
    "<ul>\n",
    "    <li>Regularización usando DropConnect</li>\n",
    "    <li>Redes multi-columna para la clasificación de imágenes</li> \n",
    "    <li>APAC: Augmented Pattern Classification with Neural Networks (Clasificación de patrones aumentada con redes neuronales)</li>\n",
    "    <li>Red neuronal profunda simple con Dropout</li>\n",
    "</ul>\n",
    "<h4>Vamos a explorar la opción:</h4>\n",
    "<ul>\n",
    "    <li>Red neuronal profunda simple con Dropout (más de 1 capa oculta)</li>\n",
    "</ul> \n"
   ]
  },
  {
   "cell_type": "markdown",
   "metadata": {},
   "source": [
    "<hr>\n"
   ]
  },
  {
   "cell_type": "markdown",
   "metadata": {},
   "source": [
    "<a id=\"ref6\"></a>\n",
    "\n",
    "<h2>Segunda parte: Deep Learning aplicado sobre el MNIST</h2>\n"
   ]
  },
  {
   "cell_type": "markdown",
   "metadata": {},
   "source": [
    "En la primera parte, aprendimos a usar una simple ANN, ahora usaremos deep learning:\n",
    "\n",
    "La arquitectura de nuestra red es:\n",
    "\n",
    "-   (Input) -> [batch_size, 28, 28, 1]  >> Apply 32 filter of [5x5]\n",
    "-   (Convolutional layer 1)  -> [batch_size, 28, 28, 32]\n",
    "-   (ReLU 1)  -> [?, 28, 28, 32]\n",
    "-   (Max pooling 1) -> [?, 14, 14, 32]\n",
    "-   (Convolutional layer 2)  -> [?, 14, 14, 64] \n",
    "-   (ReLU 2)  -> [?, 14, 14, 64] \n",
    "-   (Max pooling 2)  -> [?, 7, 7, 64] \n",
    "-   [fully connected layer 3] -> [1x1024]\n",
    "-   [ReLU 3]  -> [1x1024]\n",
    "-   [Drop out]  -> [1x1024]\n",
    "-   [fully connected layer 4] -> [1x10]\n",
    "\n",
    "\n"
   ]
  },
  {
   "cell_type": "markdown",
   "metadata": {},
   "source": [
    "<h3>Datos del MNIST</h3>\n"
   ]
  },
  {
   "cell_type": "markdown",
   "metadata": {},
   "source": [
    "<h3>Parámetros iniciales</h3>\n"
   ]
  },
  {
   "cell_type": "markdown",
   "metadata": {},
   "source": [
    "Creamos parámetros generales para el modelo:\n"
   ]
  },
  {
   "cell_type": "code",
   "execution_count": 23,
   "metadata": {},
   "outputs": [],
   "source": [
    "width = 28 # ancho de la imagen en pixeles \n",
    "height = 28 # altura de la imagen en pixeles\n",
    "flat = width * height # número de pixeles en una imagen \n",
    "class_output = 10 # número de opciones de clasificación posibles"
   ]
  },
  {
   "cell_type": "markdown",
   "metadata": {},
   "source": [
    "<h4>Convirtiendo imágenes del dataset a tensores</h4>\n"
   ]
  },
  {
   "cell_type": "markdown",
   "metadata": {},
   "source": [
    "La imagen de entrada es de 28x28 pixeles,1 canal (escala de grises). En este caso, la primera dimensión es el **batch number (número de lote)** y puede ser de cualquier tamaño (lo establecemos en -1). Las segunda y tercera dimensión son el ancho y el alto, y la última son los canales de imagen.\n"
   ]
  },
  {
   "cell_type": "code",
   "execution_count": 24,
   "metadata": {},
   "outputs": [],
   "source": [
    "x_image_train = tf.reshape(x_train, [-1,28,28,1])  \n",
    "x_image_train = tf.cast(x_image_train, 'float32') \n",
    "\n",
    "x_image_test = tf.reshape(x_test, [-1,28,28,1]) \n",
    "x_image_test = tf.cast(x_image_test, 'float32') \n",
    "\n",
    "#creating new dataset with reshaped inputs\n",
    "train_ds2 = tf.data.Dataset.from_tensor_slices((x_image_train, y_train)).batch(50)\n",
    "test_ds2 = tf.data.Dataset.from_tensor_slices((x_image_test, y_test)).batch(50)"
   ]
  },
  {
   "cell_type": "markdown",
   "metadata": {},
   "source": [
    "Reducimos el tamaño del dataset por temas computacionales.\n"
   ]
  },
  {
   "cell_type": "code",
   "execution_count": 25,
   "metadata": {},
   "outputs": [],
   "source": [
    "x_image_train = tf.slice(x_image_train,[0,0,0,0],[10000, 28, 28, 1])\n",
    "y_train = tf.slice(y_train,[0,0],[10000, 10])"
   ]
  },
  {
   "cell_type": "markdown",
   "metadata": {},
   "source": [
    "<h3>Capa convolucional 1</h3>\n"
   ]
  },
  {
   "cell_type": "markdown",
   "metadata": {},
   "source": [
    "<h4>Definir kernel, pesos y sesgo</h4>\n",
    "\n",
    "Definimos un kernel (filtro) aquí. El tamaño del kernel es 5x5; los canales de entrada son 1 (escala de grises); y necesitamos 32 mapas de características diferentes (32 kernels diferentes son aplicados sobre cada imagen; así, la salida de la capa convolucional será 28x28x32). En este paso creamos un tensor kernel de la forma <code> [altura_filtro,ancho_filtro,canales_de_entrada,canales_de_salida]</code>\n"
   ]
  },
  {
   "cell_type": "code",
   "execution_count": 26,
   "metadata": {},
   "outputs": [],
   "source": [
    "W_conv1 = tf.Variable(tf.random.truncated_normal([5, 5, 1, 32], stddev=0.1, seed=0))\n",
    "b_conv1 = tf.Variable(tf.constant(0.1, shape=[32])) # necesitamos 32 sesgos para 32 salidas"
   ]
  },
  {
   "cell_type": "markdown",
   "metadata": {},
   "source": [
    "<img src=\"https://ibm.box.com/shared/static/vn26neef1nnv2oxn5cb3uueowcawhkgb.png\" style=\"width: 800px; height: 400px;\" alt=\"HTML5 Icon\" >\n",
    "\n",
    "</h4>Convolucionamos con el tensor de pesos y sumamos los sesgos</h4>\n",
    "\n",
    "Para crear una capa convolucional usamos <b>tf.nn.conv2d</b>. Computa una convolución 2D dad una entrada 4D y tensores de filtros.\n",
    "\n",
    "Entradas:\n",
    "\n",
    "-   tensor de la forma [batch, in_height, in_width, in_channels]. x de la forma [batch_size,28 ,28, 1]\n",
    "-   un filtro / kernel tensor de la forma [filter_height, filter_width, in_channels, out_channels]. W es de tamaño [5, 5, 1, 32]\n",
    "-   stride que es  [1, 1, 1, 1]. La capa convolucional desliza la \"ventana del kernel\" a través del tensor de entrada. Como el tensor de entrada tiene 4 dimensiones [batch, height, width, channels], la capa convolucional opera sobre una ventana 2D sobre las dimensiones alto y ancho. **strides** determina cuánto se corre la ventana en cada una de las dimensiones. Como la primera y última de las dimensiones están relacionadas al lote y los canales, establecemos el stride en 1. Pero para las otras dimensiones podemos usar otros valores, por ejemplo [1, 2, 2, 1]\n",
    "\n",
    "\n",
    "Proceso:\n",
    "\n",
    "-   Cambiar el filtro a una matriz 2D con la forma [5\\*5\\*1,32]\n",
    "-   Extraer parches de la imagen del tensor de entrada para formar un tensor virtual de la forma `[batch, 28, 28, 5*5*1]`.\n",
    "-   Para cada lote, multiplicación a la derecha de la matriz filtro y la imagen.\n",
    "\n",
    "Salida:\n",
    "\n",
    "-   Un  `Tensor` (convolución 2-D) de tamaño tf.Tensor 'add_7:0' shape=(?, 28, 28, 32)- Nota: La salida de la primer capa convolucional es 32 [28x28] imágenes. Aquí 32 es considerado el volumen/profundidad de la imagen de salida.\n"
   ]
  },
  {
   "cell_type": "code",
   "execution_count": 27,
   "metadata": {},
   "outputs": [],
   "source": [
    "def convolve1(x):\n",
    "    return(\n",
    "        tf.nn.conv2d(x, W_conv1, strides=[1, 1, 1, 1], padding='SAME') + b_conv1)"
   ]
  },
  {
   "cell_type": "markdown",
   "metadata": {},
   "source": [
    "<img src=\"https://ibm.box.com/shared/static/iizf4ui4b2hh9wn86pplqxu27ykpqci9.png\" style=\"width: 800px; height: 400px;\" alt=\"HTML5 Icon\" >\n"
   ]
  },
  {
   "cell_type": "markdown",
   "metadata": {},
   "source": [
    "<h4>Aplicamos la función de activación ReLU</h4>\n"
   ]
  },
  {
   "cell_type": "markdown",
   "metadata": {},
   "source": [
    "Recorremos todas las salidas de la capa convolucional convolve1 y cada vez que aparece un número negativo lo cambiamos por 0. Sea f(x) la función de activcaión ReLu $f(x) = max(0,x)$.\n"
   ]
  },
  {
   "cell_type": "code",
   "execution_count": 28,
   "metadata": {},
   "outputs": [],
   "source": [
    "def h_conv1(x): return(tf.nn.relu(convolve1(x)))"
   ]
  },
  {
   "cell_type": "markdown",
   "metadata": {},
   "source": [
    "<h4>Aplicamos max pooling</h4>\n"
   ]
  },
  {
   "cell_type": "markdown",
   "metadata": {},
   "source": [
    "<b>max pooling</b> es una forma de down-sampling no lineal.Particiona la imagen de entrada en un conjunto de rectángulos y encuentra el máximo de esa región.\n",
    "\n",
    "Usemos la función <b>tf.nn.max_pool</b> para realizar el max pooling.\n",
    "<b>Kernel size:</b> 2x2 (si la ventana es una matriz 2x2, resultará en un pixel de salida)\n",
    "<b>Strides:</b>: dictamina el comportamiento deslizante del kernel. En este caso se mueve 2 pixeles cada vez, por tanto no se superponen. La entrada es una matriz de tamaño 28x28x32 y la salida será una matriz de tamaño 14x14x32.\n",
    "\n",
    "<img src=\"https://ibm.box.com/shared/static/kmaja90mn3aud9mro9cn8pbbg1h5pejy.png\" alt=\"HTML5 Icon\" style=\"width: 800px; height: 400px;\"> \n"
   ]
  },
  {
   "cell_type": "code",
   "execution_count": 29,
   "metadata": {},
   "outputs": [],
   "source": [
    "def conv1(x):\n",
    "    return tf.nn.max_pool(h_conv1(x), ksize=[1, 2, 2, 1], \n",
    "                          strides=[1, 2, 2, 1], padding='SAME')"
   ]
  },
  {
   "cell_type": "markdown",
   "metadata": {},
   "source": [
    "Primera capa completada.\n"
   ]
  },
  {
   "cell_type": "markdown",
   "metadata": {},
   "source": [
    "<h3>Capa convolucional 2</h3>\n",
    "<h4>Pesos y sesgos de los kernels</h4>\n"
   ]
  },
  {
   "cell_type": "markdown",
   "metadata": {},
   "source": [
    "Aplicamos la convolución otra vez en esta capa. Miremos el segundo kernel: \n",
    "\n",
    "-   Filter/kernel: 5x5 (25 pixeles) \n",
    "-   Input channels: 32 (de la primera capa convolucional, tenemos 32 mapas de características) \n",
    "-   64 mapas de características de salida \n",
    "\n",
    "<b>Nota:</b> aquí, la imagen de entrada es [14x14x32], el filtro es [5x5x32], usamos 64 filtros de tamaño [5x5x32], y la salida de la capa convolucional será 64 imágenes convolucionadas [14x14x64]\n",
    "\n",
    "\n",
    "<b>Nota:</b> el resultado de convolución de aplicar un filtro de tamaño [5x5x32] sobre una imagen de tamaño [14x14x32] es una imagen de tamaño [14x14x1], es decir, la convolución funciona en volumen.\n"
   ]
  },
  {
   "cell_type": "code",
   "execution_count": 30,
   "metadata": {},
   "outputs": [],
   "source": [
    "W_conv2 = tf.Variable(tf.random.truncated_normal([5, 5, 32, 64], stddev=0.1, seed=1))\n",
    "b_conv2 = tf.Variable(tf.constant(0.1, shape=[64])) #need 64 biases for 64 outputs"
   ]
  },
  {
   "cell_type": "markdown",
   "metadata": {},
   "source": [
    "<h4>Convolucionamos la imagen con el tensor de pesos y sumamos el sesgo</h4>\n"
   ]
  },
  {
   "cell_type": "code",
   "execution_count": 31,
   "metadata": {},
   "outputs": [],
   "source": [
    "def convolve2(x): \n",
    "    return( \n",
    "    tf.nn.conv2d(conv1(x), W_conv2, strides=[1, 1, 1, 1], padding='SAME') + b_conv2)"
   ]
  },
  {
   "cell_type": "markdown",
   "metadata": {},
   "source": [
    "<h4>Aplicamos la función de activación ReLu</h4>\n"
   ]
  },
  {
   "cell_type": "code",
   "execution_count": 32,
   "metadata": {},
   "outputs": [],
   "source": [
    "def h_conv2(x):  return tf.nn.relu(convolve2(x))"
   ]
  },
  {
   "cell_type": "markdown",
   "metadata": {},
   "source": [
    "<h4>Aplicamos max pooling</h4>\n"
   ]
  },
  {
   "cell_type": "code",
   "execution_count": 33,
   "metadata": {},
   "outputs": [],
   "source": [
    "def conv2(x):  \n",
    "    return(\n",
    "    tf.nn.max_pool(h_conv2(x), ksize=[1, 2, 2, 1], strides=[1, 2, 2, 1], padding='SAME'))"
   ]
  },
  {
   "cell_type": "markdown",
   "metadata": {},
   "source": [
    "Segunda capa completa.\n",
    "\n",
    "-   Su salida son 64 matrices [7x7]\n"
   ]
  },
  {
   "cell_type": "markdown",
   "metadata": {},
   "source": [
    "<h3>Capa completamente conectada</h3>\n"
   ]
  },
  {
   "cell_type": "markdown",
   "metadata": {},
   "source": [
    "Se necesita una capa completamente conectada para usar Softmax y crear las probabilidades finales. Las capas completamente conectadas toman las imágenes filtradas de alto nivel de las capas previas (esto es, las 64 matrices) y las comvierten en un arreglo plano.\n",
    "\n",
    "Así, cada matriz [7x7] será convertida en una matriz [49x1], y luego todas esas matrices serán conectadas, lo que da un arreglo de tamaño [3136x1]. Conectaremos esto a otra capa de tamaño [1024x1] Así, el peso entre estas 2 capas será [3136x1024]\n",
    "\n",
    "<img src=\"https://ibm.box.com/shared/static/pr9mnirmlrzm2bitf1d4jj389hyvv7ey.png\" alt=\"HTML5 Icon\" style=\"width: 800px; height: 400px;\"> \n"
   ]
  },
  {
   "cell_type": "markdown",
   "metadata": {},
   "source": [
    "<h4>Aplnando la segunda capa</h4>\n"
   ]
  },
  {
   "cell_type": "code",
   "execution_count": 34,
   "metadata": {},
   "outputs": [],
   "source": [
    "def layer2_matrix(x): return tf.reshape(conv2(x), [-1, 7 * 7 * 64])"
   ]
  },
  {
   "cell_type": "markdown",
   "metadata": {},
   "source": [
    "<h4>Pesos y sesgos entre las capas 2 y 3</h4>\n"
   ]
  },
  {
   "cell_type": "markdown",
   "metadata": {},
   "source": [
    "Composición del mapa de características de la última capa (7x7) multiplicado por el número de mapa de características (64); 1027 salidas para la capa Softmax.\n"
   ]
  },
  {
   "cell_type": "code",
   "execution_count": 35,
   "metadata": {},
   "outputs": [],
   "source": [
    "W_fc1 = tf.Variable(tf.random.truncated_normal([7 * 7 * 64, 1024], stddev=0.1, seed = 2))\n",
    "b_fc1 = tf.Variable(tf.constant(0.1, shape=[1024])) # need 1024 biases for 1024 outputs"
   ]
  },
  {
   "cell_type": "markdown",
   "metadata": {},
   "source": [
    "<h4>Multiplicación de matrices (aplicando pesos y sesgos)</h4>\n"
   ]
  },
  {
   "cell_type": "code",
   "execution_count": 36,
   "metadata": {},
   "outputs": [],
   "source": [
    "def fcl(x): return tf.matmul(layer2_matrix(x), W_fc1) + b_fc1"
   ]
  },
  {
   "cell_type": "markdown",
   "metadata": {},
   "source": [
    "<h4>Aplicamos ReLu</h4>\n"
   ]
  },
  {
   "cell_type": "code",
   "execution_count": 37,
   "metadata": {},
   "outputs": [],
   "source": [
    "def h_fc1(x): return tf.nn.relu(fcl(x))"
   ]
  },
  {
   "cell_type": "markdown",
   "metadata": {},
   "source": [
    "Tercera capa completa\n"
   ]
  },
  {
   "cell_type": "markdown",
   "metadata": {},
   "source": [
    "<h4>Capa de droput, opcional para reducir el overfitting</h4>\n"
   ]
  },
  {
   "cell_type": "markdown",
   "metadata": {},
   "source": [
    "Es una fase donde la red \"olvida\" algunas características.En cada paso de entrenamiento en un mini-lote, algunas unidades son apagadas aleatoriamente para que no interactuén con la red. Esto es, sus pesos no pueden ser actualizados, tampoco afectarán el aprendizaje de otros nodos de la red. Esto es útil en redes grandes para prevenir el overfitting.\n"
   ]
  },
  {
   "cell_type": "code",
   "execution_count": 38,
   "metadata": {},
   "outputs": [],
   "source": [
    "keep_prob=0.5\n",
    "def layer_drop(x): return tf.nn.dropout(h_fc1(x), keep_prob)"
   ]
  },
  {
   "cell_type": "markdown",
   "metadata": {},
   "source": [
    "<h4>Readout Layer (Capa Softmax)</h4>\n"
   ]
  },
  {
   "cell_type": "markdown",
   "metadata": {},
   "source": [
    "Tipo: Softmax, Capa completamente conectada.\n"
   ]
  },
  {
   "cell_type": "markdown",
   "metadata": {},
   "source": [
    "<h4>Pesos y sesgos</h4>\n"
   ]
  },
  {
   "cell_type": "markdown",
   "metadata": {},
   "source": [
    "En la última capa, la CNN toma las imágenes filtradas de alto nivel y las traduce en votos usando softmax.\n",
    "Canales de entrada: 1024 (neuronas de la tercera capa); 10 características de salida.\n"
   ]
  },
  {
   "cell_type": "code",
   "execution_count": 39,
   "metadata": {},
   "outputs": [],
   "source": [
    "W_fc2 = tf.Variable(tf.random.truncated_normal([1024, 10], stddev=0.1, seed = 2)) #1024 neurons\n",
    "b_fc2 = tf.Variable(tf.constant(0.1, shape=[10])) # 10 possibilities for digits [0,1,2,3,4,5,6,7,8,9]"
   ]
  },
  {
   "cell_type": "markdown",
   "metadata": {},
   "source": [
    "<h4>Multiplicación de matrices (aplicar pesos y sesgos)</h4>\n"
   ]
  },
  {
   "cell_type": "code",
   "execution_count": 40,
   "metadata": {},
   "outputs": [],
   "source": [
    "def fc(x): return tf.matmul(layer_drop(x), W_fc2) + b_fc2"
   ]
  },
  {
   "cell_type": "markdown",
   "metadata": {},
   "source": [
    "<h4>Aplicamos la función de activación Softmax</h4>\n",
    "<b>softmax</b> nos permite interpretar las salidas de <b>fcl4</b> como probabilidades. Así, <b>y_conv</b> es un tensor de probabilidades.\n"
   ]
  },
  {
   "cell_type": "code",
   "execution_count": 41,
   "metadata": {},
   "outputs": [],
   "source": [
    "def y_CNN(x): return tf.nn.softmax(fc(x))"
   ]
  },
  {
   "cell_type": "markdown",
   "metadata": {},
   "source": [
    "* * *\n"
   ]
  },
  {
   "cell_type": "markdown",
   "metadata": {},
   "source": [
    "<a id=\"ref7\"></a>\n",
    "\n",
    "<h2>Resumen de la CNN</h2>\n"
   ]
  },
  {
   "cell_type": "markdown",
   "metadata": {},
   "source": [
    "Recordemos la estructura de nuestra red:\n"
   ]
  },
  {
   "cell_type": "markdown",
   "metadata": {},
   "source": [
    "#### 0) Entrada - dataset del MNIST\n",
    "\n",
    "#### 1) Convolucional y max pooling\n",
    "\n",
    "#### 2) Convolucional y max pooling\n",
    "\n",
    "#### 3) Completamete conectada\n",
    "\n",
    "#### 4) Procesamiento - Dropout\n",
    "\n",
    "#### 5) Readout layer - Completamente conectada\n",
    "\n",
    "#### 6) Salidas - Dígitos clasificados\n"
   ]
  },
  {
   "cell_type": "markdown",
   "metadata": {},
   "source": [
    "* * *\n"
   ]
  },
  {
   "cell_type": "markdown",
   "metadata": {},
   "source": [
    "<a id=\"ref8\"></a>\n",
    "\n",
    "<h2>Definimos las funciones y entrenamos el modelo</h2>\n"
   ]
  },
  {
   "cell_type": "markdown",
   "metadata": {},
   "source": [
    "<h4>Definimos la función de pérdida</h4>\n",
    "\n",
    "Necesitamos comparar nuestra salida, layer4 tensor, con la verdad para todos los mini-lotes. Podemos usar la entropía cruzada para medir el error en la capa softmax.\n",
    "\n",
    "El siguiente código muestra un ejemplo de juguete de entropía cruzada para un mini-lote de tamaño 2 cuyos ítems han sido clasificados. Puede ejecutarlo para ver cómo cambia la entropía cruzada.\n"
   ]
  },
  {
   "cell_type": "code",
   "execution_count": 42,
   "metadata": {},
   "outputs": [
    {
     "data": {
      "text/plain": [
       "0.10536051565782628"
      ]
     },
     "execution_count": 42,
     "metadata": {},
     "output_type": "execute_result"
    }
   ],
   "source": [
    "import numpy as np\n",
    "layer4_test =[[0.9, 0.1, 0.1],[0.9, 0.1, 0.1]]\n",
    "y_test=[[1.0, 0.0, 0.0],[1.0, 0.0, 0.0]]\n",
    "np.mean( -np.sum(y_test * np.log(layer4_test),1))"
   ]
  },
  {
   "cell_type": "markdown",
   "metadata": {},
   "source": [
    "<b>reduce_sum</b> computa la suma de elementos de <b>(y_ * tf.log(layer4)</b> a través de la segunda dimensión del tensor, y <b>reduce_mean</b> computa la media de todos los elementos en el tensor.\n",
    "\n",
    "$$ CrossEntropy = \\sum{y_{Label}\\cdot \\log(y_{Prediction})}$$\n"
   ]
  },
  {
   "cell_type": "code",
   "execution_count": 43,
   "metadata": {},
   "outputs": [],
   "source": [
    "def cross_entropy(y_label, y_pred):\n",
    "    return (-tf.reduce_sum(y_label * tf.math.log(y_pred + 1.e-10)))"
   ]
  },
  {
   "cell_type": "markdown",
   "metadata": {},
   "source": [
    "<h4>Definimos el opitmizador</h4>\n",
    "\n",
    "Queremos minimizar el error de nuestra red, que es calculado mediante la entropía cruzada. Para resolver esto, debemos computar los gradientes para la pérdida y aplicar gradientes a las variables. Será hecho por un optimizador: GradientDescent o Adagrad. \n"
   ]
  },
  {
   "cell_type": "code",
   "execution_count": 44,
   "metadata": {},
   "outputs": [],
   "source": [
    "optimizer = tf.keras.optimizers.Adam(1e-4)"
   ]
  },
  {
   "cell_type": "markdown",
   "metadata": {},
   "source": [
    "Siguiendo la convención de nuestro primer ejemplo, usaremos `GradientTape` para definir un modelo.\n"
   ]
  },
  {
   "cell_type": "code",
   "execution_count": 45,
   "metadata": {},
   "outputs": [],
   "source": [
    "variables = [W_conv1, b_conv1, W_conv2, b_conv2, \n",
    "             W_fc1, b_fc1, W_fc2, b_fc2, ]\n",
    "\n",
    "def train_step(x, y):\n",
    "    with tf.GradientTape() as tape:\n",
    "        current_loss = cross_entropy( y, y_CNN( x ))\n",
    "        grads = tape.gradient( current_loss , variables )\n",
    "        optimizer.apply_gradients( zip( grads , variables ) )\n",
    "        return current_loss.numpy()\n"
   ]
  },
  {
   "cell_type": "code",
   "execution_count": 46,
   "metadata": {},
   "outputs": [
    {
     "data": {
      "text/plain": [
       "'results = []\\nincrement = 1000\\nfor start in range(0,60000,increment):\\n    s = tf.slice(x_image_train,[start,0,0,0],[start+increment-1, 28, 28, 1])\\n    t = y_CNN(s)\\n    #results.append(t)\\n'"
      ]
     },
     "execution_count": 46,
     "metadata": {},
     "output_type": "execute_result"
    }
   ],
   "source": [
    "\"\"\"results = []\n",
    "increment = 1000\n",
    "for start in range(0,60000,increment):\n",
    "    s = tf.slice(x_image_train,[start,0,0,0],[start+increment-1, 28, 28, 1])\n",
    "    t = y_CNN(s)\n",
    "    #results.append(t)\n",
    "\"\"\""
   ]
  },
  {
   "cell_type": "markdown",
   "metadata": {},
   "source": [
    "<h4>Definimos la predicción</h4>\n",
    "Quiere saber cuántos casos en un mini-lote han sido clasificados correctamente? Contémoslos.\n"
   ]
  },
  {
   "cell_type": "code",
   "execution_count": 47,
   "metadata": {},
   "outputs": [],
   "source": [
    "correct_prediction = tf.equal(tf.argmax(y_CNN(x_image_train), axis=1), tf.argmax(y_train, axis=1))"
   ]
  },
  {
   "cell_type": "markdown",
   "metadata": {},
   "source": [
    "<h4>Definimos la precisión</h4>\n",
    "Tiene más sentido reportar la precisión usando el promedio de casos correctos.\n"
   ]
  },
  {
   "cell_type": "code",
   "execution_count": 48,
   "metadata": {},
   "outputs": [],
   "source": [
    "accuracy = tf.reduce_mean(tf.cast(correct_prediction, 'float32'))"
   ]
  },
  {
   "cell_type": "markdown",
   "metadata": {},
   "source": [
    "<h4>Ejecutar sesión, entrenar</h4>\n"
   ]
  },
  {
   "cell_type": "code",
   "execution_count": 49,
   "metadata": {},
   "outputs": [
    {
     "name": "stdout",
     "output_type": "stream",
     "text": [
      "epoch  0 batch 50 loss: 127.04834 accuracy 0.38\n",
      "epoch  0 batch 100 loss: 57.087032 accuracy 0.6\n",
      "epoch  0 batch 150 loss: 39.96983 accuracy 0.76\n",
      "epoch  0 batch 200 loss: 15.398943 accuracy 0.82\n",
      "epoch  0 batch 250 loss: 35.02289 accuracy 0.78\n",
      "epoch  0 batch 300 loss: 20.963856 accuracy 0.86\n",
      "epoch  0 batch 350 loss: 26.406048 accuracy 0.86\n",
      "epoch  0 batch 400 loss: 22.496357 accuracy 0.9\n",
      "epoch  0 batch 450 loss: 18.04554 accuracy 0.84\n",
      "epoch  0 batch 500 loss: 15.783655 accuracy 0.9\n",
      "epoch  0 batch 550 loss: 23.702826 accuracy 0.92\n",
      "epoch  0 batch 600 loss: 14.3154335 accuracy 0.84\n",
      "epoch  0 batch 650 loss: 19.28129 accuracy 0.84\n",
      "epoch  0 batch 700 loss: 4.025415 accuracy 0.96\n",
      "epoch  0 batch 750 loss: 25.338274 accuracy 0.88\n",
      "epoch  0 batch 800 loss: 14.861956 accuracy 0.92\n",
      "epoch  0 batch 850 loss: 17.131226 accuracy 0.92\n",
      "epoch  0 batch 900 loss: 10.773762 accuracy 0.92\n",
      "epoch  0 batch 950 loss: 13.753569 accuracy 0.92\n",
      "epoch  0 batch 1000 loss: 18.532227 accuracy 0.94\n",
      "epoch  0 batch 1050 loss: 4.441198 accuracy 0.96\n",
      "epoch  0 batch 1100 loss: 16.201658 accuracy 0.86\n",
      "epoch  0 batch 1150 loss: 9.704319 accuracy 0.96\n",
      "epoch  0 batch 1200 loss: 5.4474473 accuracy 1.0\n",
      "end of epoch  0 loss 1867.72 accuracy 0.9424\n"
     ]
    }
   ],
   "source": [
    "loss_values=[]\n",
    "accuracies = []\n",
    "epochs = 1\n",
    "\n",
    "for i in range(epochs):\n",
    "    j=0\n",
    "    # each batch has 50 examples\n",
    "    for x_train_batch, y_train_batch in train_ds2:\n",
    "        j+=1\n",
    "        current_loss = train_step(x_train_batch, y_train_batch)\n",
    "        if j%50==0: #reporting intermittent batch statistics\n",
    "            correct_prediction = tf.equal(tf.argmax(y_CNN(x_train_batch), axis=1),\n",
    "                                  tf.argmax(y_train_batch, axis=1))\n",
    "            #  accuracy\n",
    "            accuracy = tf.reduce_mean(tf.cast(correct_prediction, tf.float32)).numpy()\n",
    "            print(\"epoch \", str(i), \"batch\", str(j), \"loss:\", str(current_loss),\n",
    "                     \"accuracy\", str(accuracy)) \n",
    "            \n",
    "    current_loss = cross_entropy( y_train, y_CNN( x_image_train )).numpy()\n",
    "    loss_values.append(current_loss)\n",
    "    correct_prediction = tf.equal(tf.argmax(y_CNN(x_image_train), axis=1),\n",
    "                                  tf.argmax(y_train, axis=1))\n",
    "    #  accuracy\n",
    "    accuracy = tf.reduce_mean(tf.cast(correct_prediction, tf.float32)).numpy()\n",
    "    accuracies.append(accuracy)\n",
    "    print(\"end of epoch \", str(i), \"loss\", str(current_loss), \"accuracy\", str(accuracy) )  "
   ]
  },
  {
   "cell_type": "markdown",
   "metadata": {},
   "source": [
    "94% de precisión luego de solamente 1 epoch!! \n"
   ]
  },
  {
   "cell_type": "markdown",
   "metadata": {},
   "source": [
    "<hr>\n"
   ]
  },
  {
   "cell_type": "markdown",
   "metadata": {},
   "source": [
    "<a id=\"ref9\"></a>\n",
    "\n",
    "<h2>Evaluar el modelo</h2>\n"
   ]
  },
  {
   "cell_type": "code",
   "execution_count": 50,
   "metadata": {},
   "outputs": [
    {
     "name": "stdout",
     "output_type": "stream",
     "text": [
      "batch 100 accuracy 0.96\n",
      "batch 200 accuracy 0.98\n",
      "batch 300 accuracy 0.9\n",
      "batch 400 accuracy 0.94\n",
      "batch 500 accuracy 0.98\n",
      "batch 600 accuracy 0.86\n",
      "batch 700 accuracy 0.96\n",
      "batch 800 accuracy 0.94\n",
      "batch 900 accuracy 0.94\n",
      "batch 1000 accuracy 0.94\n",
      "batch 1100 accuracy 0.92\n",
      "batch 1200 accuracy 1.0\n",
      "accuracy of entire set 0.9424\n"
     ]
    }
   ],
   "source": [
    "j=0\n",
    "acccuracies=[]\n",
    "# evaluate accuracy by batch and average...reporting every 100th batch\n",
    "for x_train_batch, y_train_batch in train_ds2:\n",
    "        j+=1\n",
    "        correct_prediction = tf.equal(tf.argmax(y_CNN(x_train_batch), axis=1),\n",
    "                                  tf.argmax(y_train_batch, axis=1))\n",
    "        accuracy = tf.reduce_mean(tf.cast(correct_prediction, tf.float32)).numpy()\n",
    "        #accuracies.append(accuracy)\n",
    "        if j%100==0:\n",
    "            print(\"batch\", str(j), \"accuracy\", str(accuracy) ) \n",
    "import numpy as np\n",
    "print(\"accuracy of entire set\", str(np.mean(accuracies)))            "
   ]
  },
  {
   "cell_type": "markdown",
   "metadata": {},
   "source": [
    "<h3>Visualización</h3>\n"
   ]
  },
  {
   "cell_type": "markdown",
   "metadata": {},
   "source": [
    "Quiere mirar los filtros?\n"
   ]
  },
  {
   "cell_type": "code",
   "execution_count": 51,
   "metadata": {},
   "outputs": [],
   "source": [
    "kernels = tf.reshape(tf.transpose(W_conv1, perm=[2, 3, 0,1]),[32, -1])"
   ]
  },
  {
   "cell_type": "code",
   "execution_count": 60,
   "metadata": {},
   "outputs": [
    {
     "ename": "ModuleNotFoundError",
     "evalue": "No module named 'utils1'",
     "output_type": "error",
     "traceback": [
      "\u001b[1;31m---------------------------------------------------------------------------\u001b[0m",
      "\u001b[1;31mModuleNotFoundError\u001b[0m                       Traceback (most recent call last)",
      "\u001b[1;32m<ipython-input-60-e5209fdb842b>\u001b[0m in \u001b[0;36m<module>\u001b[1;34m\u001b[0m\n\u001b[0;32m     10\u001b[0m \u001b[1;33m\u001b[0m\u001b[0m\n\u001b[0;32m     11\u001b[0m \u001b[1;33m\u001b[0m\u001b[0m\n\u001b[1;32m---> 12\u001b[1;33m \u001b[1;32mimport\u001b[0m \u001b[0mutils1\u001b[0m\u001b[1;33m\u001b[0m\u001b[1;33m\u001b[0m\u001b[0m\n\u001b[0m\u001b[0;32m     13\u001b[0m \u001b[1;32mimport\u001b[0m \u001b[0mimp\u001b[0m\u001b[1;33m\u001b[0m\u001b[1;33m\u001b[0m\u001b[0m\n\u001b[0;32m     14\u001b[0m \u001b[0mimp\u001b[0m\u001b[1;33m.\u001b[0m\u001b[0mreload\u001b[0m\u001b[1;33m(\u001b[0m\u001b[0mutils1\u001b[0m\u001b[1;33m)\u001b[0m\u001b[1;33m\u001b[0m\u001b[1;33m\u001b[0m\u001b[0m\n",
      "\u001b[1;31mModuleNotFoundError\u001b[0m: No module named 'utils1'"
     ]
    }
   ],
   "source": [
    "#!pip install python-utils\n",
    "\n",
    "#!wget --output-document utils1.py https://cf-courses-data.s3.us.cloud-object-storage.appdomain.cloud/IBMDeveloperSkillsNetwork-DL0120EN-SkillsNetwork/labs/Week2/data/utils.py\n",
    "\n",
    "import urllib.request\n",
    "url = 'https://cf-courses-data.s3.us.cloud-object-storage.appdomain.cloud/IBMDeveloperSkillsNetwork-DL0120EN-SkillsNetwork/labs/Week2/data/utils.py'\n",
    "filename = 'utils.py'\n",
    "urllib.request.urlretrieve(url, filename) \n",
    "    \n",
    "    \n",
    "    \n",
    "import utils1\n",
    "import imp\n",
    "imp.reload(utils1)\n",
    "from utils1 import tile_raster_images\n",
    "import matplotlib.pyplot as plt\n",
    "from PIL import Image\n",
    "%matplotlib inline\n",
    "image = Image.fromarray(tile_raster_images(kernels.numpy(), img_shape=(5, 5) ,tile_shape=(4, 8), tile_spacing=(1, 1)))\n",
    "### Plot image\n",
    "plt.rcParams['figure.figsize'] = (18.0, 18.0)\n",
    "imgplot = plt.imshow(image)\n",
    "imgplot.set_cmap('gray')  "
   ]
  },
  {
   "cell_type": "markdown",
   "metadata": {},
   "source": [
    "Quiere ver la salida de una imagen que pasa por la primera capa convolucional?\n"
   ]
  },
  {
   "cell_type": "code",
   "execution_count": 58,
   "metadata": {},
   "outputs": [
    {
     "data": {
      "text/plain": [
       "<matplotlib.image.AxesImage at 0x23ac5a92550>"
      ]
     },
     "execution_count": 58,
     "metadata": {},
     "output_type": "execute_result"
    },
    {
     "data": {
      "image/png": "[encoded data removed]",
      "text/plain": [
       "<Figure size 360x360 with 1 Axes>"
      ]
     },
     "metadata": {
      "needs_background": "light"
     },
     "output_type": "display_data"
    }
   ],
   "source": [
    "import numpy as np\n",
    "plt.rcParams['figure.figsize'] = (5.0, 5.0)\n",
    "sampleimage = [x_image_train[0]]\n",
    "plt.imshow(np.reshape(sampleimage,[28,28]), cmap=\"gray\")"
   ]
  },
  {
   "cell_type": "code",
   "execution_count": 61,
   "metadata": {},
   "outputs": [
    {
     "data": {
      "image/png": "[encoded data removed]",
      "text/plain": [
       "<Figure size 1440x1440 with 32 Axes>"
      ]
     },
     "metadata": {
      "needs_background": "light"
     },
     "output_type": "display_data"
    }
   ],
   "source": [
    "#ActivatedUnits = sess.run(convolve1,feed_dict={x:np.reshape(sampleimage,[1,784],order='F'),keep_prob:1.0})\n",
    "keep_prob=1.0\n",
    "ActivatedUnits = convolve1(sampleimage)\n",
    "                           \n",
    "filters = ActivatedUnits.shape[3]\n",
    "plt.figure(1, figsize=(20,20))\n",
    "n_columns = 6\n",
    "n_rows = np.math.ceil(filters / n_columns) + 1\n",
    "for i in range(filters):\n",
    "    plt.subplot(n_rows, n_columns, i+1)\n",
    "    plt.title('Filter ' + str(i))\n",
    "    plt.imshow(ActivatedUnits[0,:,:,i], interpolation=\"nearest\", cmap=\"gray\")"
   ]
  },
  {
   "cell_type": "markdown",
   "metadata": {},
   "source": [
    "Y a través de la segunda capa?\n"
   ]
  },
  {
   "cell_type": "code",
   "execution_count": 62,
   "metadata": {},
   "outputs": [
    {
     "data": {
      "image/png": "[encoded data removed]",
      "text/plain": [
       "<Figure size 1440x1440 with 64 Axes>"
      ]
     },
     "metadata": {
      "needs_background": "light"
     },
     "output_type": "display_data"
    }
   ],
   "source": [
    "#ActivatedUnits = sess.run(convolve2,feed_dict={x:np.reshape(sampleimage,[1,784],order='F'),keep_prob:1.0})\n",
    "ActivatedUnits = convolve2(sampleimage)\n",
    "filters = ActivatedUnits.shape[3]\n",
    "plt.figure(1, figsize=(20,20))\n",
    "n_columns = 8\n",
    "n_rows = np.math.ceil(filters / n_columns) + 1\n",
    "for i in range(filters):\n",
    "    plt.subplot(n_rows, n_columns, i+1)\n",
    "    plt.title('Filter ' + str(i))\n",
    "    plt.imshow(ActivatedUnits[0,:,:,i], interpolation=\"nearest\", cmap=\"gray\")"
   ]
  }
 ],
 "metadata": {
  "anaconda-cloud": {},
  "kernelspec": {
   "display_name": "Python 3",
   "language": "python",
   "name": "python3"
  },
  "language_info": {
   "codemirror_mode": {
    "name": "ipython",
    "version": 3
   },
   "file_extension": ".py",
   "mimetype": "text/x-python",
   "name": "python",
   "nbconvert_exporter": "python",
   "pygments_lexer": "ipython3",
   "version": "3.8.5"
  }
 },
 "nbformat": 4,
 "nbformat_minor": 4
}
