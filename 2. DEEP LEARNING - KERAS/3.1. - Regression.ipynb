{
 "cells": [
  {
   "cell_type": "markdown",
   "metadata": {
    "button": false,
    "new_sheet": false,
    "run_control": {
     "read_only": false
    }
   },
   "source": [
    "<h1 align=center><font size = 5> <font color='#0489B1'>Modelo de Regresion con Keras</font></h1>\n"
   ]
  },
  {
   "cell_type": "markdown",
   "metadata": {
    "button": false,
    "new_sheet": false,
    "run_control": {
     "read_only": false
    }
   },
   "source": [
    "## Introducción\n"
   ]
  },
  {
   "cell_type": "markdown",
   "metadata": {
    "button": false,
    "new_sheet": false,
    "run_control": {
     "read_only": false
    }
   },
   "source": [
    "Keras es una API de alto nivel para construir modelos de deep learning.\n",
    "\n",
    "En este laboratorio aprenderemos a construir un modelo de regresión.\n"
   ]
  },
  {
   "cell_type": "markdown",
   "metadata": {},
   "source": [
    "<h2>Modelo de regresión con Keras</h2>\n",
    "\n",
    "<h3>Objetivos<h3>    \n",
    "<h5> 1. Usar Keras para construir un modelo de regresión</h5>\n",
    "<h5> 2. Descargar y limpiar un dataset </h5>\n",
    "<h5> 3. Construir una red neuronal </h5>\n",
    "<h5> 4. Entrenar y testear la red </h5>     \n"
   ]
  },
  {
   "cell_type": "markdown",
   "metadata": {
    "button": false,
    "new_sheet": false,
    "run_control": {
     "read_only": false
    }
   },
   "source": [
    "## Tabla de contenido\n",
    "\n",
    "<div class=\"alert alert-block alert-info\" style=\"margin-top: 20px\">\n",
    "\n",
    "<font size = 3>\n",
    "    \n",
    "1. <a href=\"#item31\">Descargar y limpiar un dataset</a>  \n",
    "2. <a href=\"#item32\">Importar Keras</a>  \n",
    "3. <a href=\"#item33\">Construir una red neuroanl</a>  \n",
    "4. <a href=\"#item34\">Entrenar y testear una red neuronal</a>  \n",
    "\n",
    "</font>\n",
    "</div>\n"
   ]
  },
  {
   "cell_type": "markdown",
   "metadata": {
    "button": false,
    "new_sheet": false,
    "run_control": {
     "read_only": false
    }
   },
   "source": [
    "<a id=\"item31\"></a>\n"
   ]
  },
  {
   "cell_type": "markdown",
   "metadata": {
    "button": false,
    "new_sheet": false,
    "run_control": {
     "read_only": false
    }
   },
   "source": [
    "## Download and Clean Dataset\n"
   ]
  },
  {
   "cell_type": "markdown",
   "metadata": {
    "button": false,
    "new_sheet": false,
    "run_control": {
     "read_only": false
    }
   },
   "source": [
    "Importemos Pandas y NumPy.\n"
   ]
  },
  {
   "cell_type": "code",
   "execution_count": 23,
   "metadata": {
    "button": false,
    "new_sheet": false,
    "run_control": {
     "read_only": false
    }
   },
   "outputs": [],
   "source": [
    "import pandas as pd\n",
    "import numpy as np"
   ]
  },
  {
   "cell_type": "markdown",
   "metadata": {
    "button": false,
    "new_sheet": false,
    "run_control": {
     "read_only": false
    }
   },
   "source": [
    "\n",
    "<strong> El dataset trata acerca de la resistencia (strength) de diferentes muestras de concreto basadas en el volumen de diferentes ingredientes que se utilizan para preparalo. Los ingredientes incluyen:\n",
    "</strong>\n",
    "\n",
    "<strong>1. Cement</strong>\n",
    "\n",
    "<strong>2. Blast Furnace Slag</strong>\n",
    "\n",
    "<strong>3. Fly Ash</strong>\n",
    "\n",
    "<strong>4. Water</strong>\n",
    "\n",
    "<strong>5. Superplasticizer</strong>\n",
    "\n",
    "<strong>6. Coarse Aggregate</strong>\n",
    "\n",
    "<strong>7. Fine Aggregate</strong>\n"
   ]
  },
  {
   "cell_type": "markdown",
   "metadata": {
    "button": false,
    "new_sheet": false,
    "run_control": {
     "read_only": false
    }
   },
   "source": [
    "Descarguemos los datos y leámoslos en un dataframe.\n"
   ]
  },
  {
   "cell_type": "code",
   "execution_count": 24,
   "metadata": {
    "button": false,
    "new_sheet": false,
    "run_control": {
     "read_only": false
    }
   },
   "outputs": [
    {
     "data": {
      "text/html": [
       "<div>\n",
       "<style scoped>\n",
       "    .dataframe tbody tr th:only-of-type {\n",
       "        vertical-align: middle;\n",
       "    }\n",
       "\n",
       "    .dataframe tbody tr th {\n",
       "        vertical-align: top;\n",
       "    }\n",
       "\n",
       "    .dataframe thead th {\n",
       "        text-align: right;\n",
       "    }\n",
       "</style>\n",
       "<table border=\"1\" class=\"dataframe\">\n",
       "  <thead>\n",
       "    <tr style=\"text-align: right;\">\n",
       "      <th></th>\n",
       "      <th>Cement</th>\n",
       "      <th>Blast Furnace Slag</th>\n",
       "      <th>Fly Ash</th>\n",
       "      <th>Water</th>\n",
       "      <th>Superplasticizer</th>\n",
       "      <th>Coarse Aggregate</th>\n",
       "      <th>Fine Aggregate</th>\n",
       "      <th>Age</th>\n",
       "      <th>Strength</th>\n",
       "    </tr>\n",
       "  </thead>\n",
       "  <tbody>\n",
       "    <tr>\n",
       "      <th>0</th>\n",
       "      <td>540.0</td>\n",
       "      <td>0.0</td>\n",
       "      <td>0.0</td>\n",
       "      <td>162.0</td>\n",
       "      <td>2.5</td>\n",
       "      <td>1040.0</td>\n",
       "      <td>676.0</td>\n",
       "      <td>28</td>\n",
       "      <td>79.99</td>\n",
       "    </tr>\n",
       "    <tr>\n",
       "      <th>1</th>\n",
       "      <td>540.0</td>\n",
       "      <td>0.0</td>\n",
       "      <td>0.0</td>\n",
       "      <td>162.0</td>\n",
       "      <td>2.5</td>\n",
       "      <td>1055.0</td>\n",
       "      <td>676.0</td>\n",
       "      <td>28</td>\n",
       "      <td>61.89</td>\n",
       "    </tr>\n",
       "    <tr>\n",
       "      <th>2</th>\n",
       "      <td>332.5</td>\n",
       "      <td>142.5</td>\n",
       "      <td>0.0</td>\n",
       "      <td>228.0</td>\n",
       "      <td>0.0</td>\n",
       "      <td>932.0</td>\n",
       "      <td>594.0</td>\n",
       "      <td>270</td>\n",
       "      <td>40.27</td>\n",
       "    </tr>\n",
       "    <tr>\n",
       "      <th>3</th>\n",
       "      <td>332.5</td>\n",
       "      <td>142.5</td>\n",
       "      <td>0.0</td>\n",
       "      <td>228.0</td>\n",
       "      <td>0.0</td>\n",
       "      <td>932.0</td>\n",
       "      <td>594.0</td>\n",
       "      <td>365</td>\n",
       "      <td>41.05</td>\n",
       "    </tr>\n",
       "    <tr>\n",
       "      <th>4</th>\n",
       "      <td>198.6</td>\n",
       "      <td>132.4</td>\n",
       "      <td>0.0</td>\n",
       "      <td>192.0</td>\n",
       "      <td>0.0</td>\n",
       "      <td>978.4</td>\n",
       "      <td>825.5</td>\n",
       "      <td>360</td>\n",
       "      <td>44.30</td>\n",
       "    </tr>\n",
       "  </tbody>\n",
       "</table>\n",
       "</div>"
      ],
      "text/plain": [
       "   Cement  Blast Furnace Slag  Fly Ash  Water  Superplasticizer  \\\n",
       "0   540.0                 0.0      0.0  162.0               2.5   \n",
       "1   540.0                 0.0      0.0  162.0               2.5   \n",
       "2   332.5               142.5      0.0  228.0               0.0   \n",
       "3   332.5               142.5      0.0  228.0               0.0   \n",
       "4   198.6               132.4      0.0  192.0               0.0   \n",
       "\n",
       "   Coarse Aggregate  Fine Aggregate  Age  Strength  \n",
       "0            1040.0           676.0   28     79.99  \n",
       "1            1055.0           676.0   28     61.89  \n",
       "2             932.0           594.0  270     40.27  \n",
       "3             932.0           594.0  365     41.05  \n",
       "4             978.4           825.5  360     44.30  "
      ]
     },
     "execution_count": 24,
     "metadata": {},
     "output_type": "execute_result"
    }
   ],
   "source": [
    "concrete_data = pd.read_csv('https://s3-api.us-geo.objectstorage.softlayer.net/cf-courses-data/CognitiveClass/DL0101EN/labs/data/concrete_data.csv')\n",
    "concrete_data.head()"
   ]
  },
  {
   "cell_type": "markdown",
   "metadata": {
    "button": false,
    "new_sheet": false,
    "run_control": {
     "read_only": false
    }
   },
   "source": [
    "#### Veamos cuántos datos tenemos\n"
   ]
  },
  {
   "cell_type": "code",
   "execution_count": 25,
   "metadata": {
    "button": false,
    "new_sheet": false,
    "run_control": {
     "read_only": false
    }
   },
   "outputs": [
    {
     "data": {
      "text/plain": [
       "(1030, 9)"
      ]
     },
     "execution_count": 25,
     "metadata": {},
     "output_type": "execute_result"
    }
   ],
   "source": [
    "concrete_data.shape"
   ]
  },
  {
   "cell_type": "markdown",
   "metadata": {
    "button": false,
    "new_sheet": false,
    "run_control": {
     "read_only": false
    }
   },
   "source": [
    "Hay 1030 muestras para entrenar nuestro  modelo. Dado que son pocas muestras, debemos tener especial cuidado en no sobreajustar los datos.\n",
    "\n"
   ]
  },
  {
   "cell_type": "markdown",
   "metadata": {
    "button": false,
    "new_sheet": false,
    "run_control": {
     "read_only": false
    }
   },
   "source": [
    "Comprobemos si hay valores faltantes:\n"
   ]
  },
  {
   "cell_type": "code",
   "execution_count": 26,
   "metadata": {
    "button": false,
    "new_sheet": false,
    "run_control": {
     "read_only": false
    }
   },
   "outputs": [
    {
     "data": {
      "text/html": [
       "<div>\n",
       "<style scoped>\n",
       "    .dataframe tbody tr th:only-of-type {\n",
       "        vertical-align: middle;\n",
       "    }\n",
       "\n",
       "    .dataframe tbody tr th {\n",
       "        vertical-align: top;\n",
       "    }\n",
       "\n",
       "    .dataframe thead th {\n",
       "        text-align: right;\n",
       "    }\n",
       "</style>\n",
       "<table border=\"1\" class=\"dataframe\">\n",
       "  <thead>\n",
       "    <tr style=\"text-align: right;\">\n",
       "      <th></th>\n",
       "      <th>Cement</th>\n",
       "      <th>Blast Furnace Slag</th>\n",
       "      <th>Fly Ash</th>\n",
       "      <th>Water</th>\n",
       "      <th>Superplasticizer</th>\n",
       "      <th>Coarse Aggregate</th>\n",
       "      <th>Fine Aggregate</th>\n",
       "      <th>Age</th>\n",
       "      <th>Strength</th>\n",
       "    </tr>\n",
       "  </thead>\n",
       "  <tbody>\n",
       "    <tr>\n",
       "      <th>count</th>\n",
       "      <td>1030.000000</td>\n",
       "      <td>1030.000000</td>\n",
       "      <td>1030.000000</td>\n",
       "      <td>1030.000000</td>\n",
       "      <td>1030.000000</td>\n",
       "      <td>1030.000000</td>\n",
       "      <td>1030.000000</td>\n",
       "      <td>1030.000000</td>\n",
       "      <td>1030.000000</td>\n",
       "    </tr>\n",
       "    <tr>\n",
       "      <th>mean</th>\n",
       "      <td>281.167864</td>\n",
       "      <td>73.895825</td>\n",
       "      <td>54.188350</td>\n",
       "      <td>181.567282</td>\n",
       "      <td>6.204660</td>\n",
       "      <td>972.918932</td>\n",
       "      <td>773.580485</td>\n",
       "      <td>45.662136</td>\n",
       "      <td>35.817961</td>\n",
       "    </tr>\n",
       "    <tr>\n",
       "      <th>std</th>\n",
       "      <td>104.506364</td>\n",
       "      <td>86.279342</td>\n",
       "      <td>63.997004</td>\n",
       "      <td>21.354219</td>\n",
       "      <td>5.973841</td>\n",
       "      <td>77.753954</td>\n",
       "      <td>80.175980</td>\n",
       "      <td>63.169912</td>\n",
       "      <td>16.705742</td>\n",
       "    </tr>\n",
       "    <tr>\n",
       "      <th>min</th>\n",
       "      <td>102.000000</td>\n",
       "      <td>0.000000</td>\n",
       "      <td>0.000000</td>\n",
       "      <td>121.800000</td>\n",
       "      <td>0.000000</td>\n",
       "      <td>801.000000</td>\n",
       "      <td>594.000000</td>\n",
       "      <td>1.000000</td>\n",
       "      <td>2.330000</td>\n",
       "    </tr>\n",
       "    <tr>\n",
       "      <th>25%</th>\n",
       "      <td>192.375000</td>\n",
       "      <td>0.000000</td>\n",
       "      <td>0.000000</td>\n",
       "      <td>164.900000</td>\n",
       "      <td>0.000000</td>\n",
       "      <td>932.000000</td>\n",
       "      <td>730.950000</td>\n",
       "      <td>7.000000</td>\n",
       "      <td>23.710000</td>\n",
       "    </tr>\n",
       "    <tr>\n",
       "      <th>50%</th>\n",
       "      <td>272.900000</td>\n",
       "      <td>22.000000</td>\n",
       "      <td>0.000000</td>\n",
       "      <td>185.000000</td>\n",
       "      <td>6.400000</td>\n",
       "      <td>968.000000</td>\n",
       "      <td>779.500000</td>\n",
       "      <td>28.000000</td>\n",
       "      <td>34.445000</td>\n",
       "    </tr>\n",
       "    <tr>\n",
       "      <th>75%</th>\n",
       "      <td>350.000000</td>\n",
       "      <td>142.950000</td>\n",
       "      <td>118.300000</td>\n",
       "      <td>192.000000</td>\n",
       "      <td>10.200000</td>\n",
       "      <td>1029.400000</td>\n",
       "      <td>824.000000</td>\n",
       "      <td>56.000000</td>\n",
       "      <td>46.135000</td>\n",
       "    </tr>\n",
       "    <tr>\n",
       "      <th>max</th>\n",
       "      <td>540.000000</td>\n",
       "      <td>359.400000</td>\n",
       "      <td>200.100000</td>\n",
       "      <td>247.000000</td>\n",
       "      <td>32.200000</td>\n",
       "      <td>1145.000000</td>\n",
       "      <td>992.600000</td>\n",
       "      <td>365.000000</td>\n",
       "      <td>82.600000</td>\n",
       "    </tr>\n",
       "  </tbody>\n",
       "</table>\n",
       "</div>"
      ],
      "text/plain": [
       "            Cement  Blast Furnace Slag      Fly Ash        Water  \\\n",
       "count  1030.000000         1030.000000  1030.000000  1030.000000   \n",
       "mean    281.167864           73.895825    54.188350   181.567282   \n",
       "std     104.506364           86.279342    63.997004    21.354219   \n",
       "min     102.000000            0.000000     0.000000   121.800000   \n",
       "25%     192.375000            0.000000     0.000000   164.900000   \n",
       "50%     272.900000           22.000000     0.000000   185.000000   \n",
       "75%     350.000000          142.950000   118.300000   192.000000   \n",
       "max     540.000000          359.400000   200.100000   247.000000   \n",
       "\n",
       "       Superplasticizer  Coarse Aggregate  Fine Aggregate          Age  \\\n",
       "count       1030.000000       1030.000000     1030.000000  1030.000000   \n",
       "mean           6.204660        972.918932      773.580485    45.662136   \n",
       "std            5.973841         77.753954       80.175980    63.169912   \n",
       "min            0.000000        801.000000      594.000000     1.000000   \n",
       "25%            0.000000        932.000000      730.950000     7.000000   \n",
       "50%            6.400000        968.000000      779.500000    28.000000   \n",
       "75%           10.200000       1029.400000      824.000000    56.000000   \n",
       "max           32.200000       1145.000000      992.600000   365.000000   \n",
       "\n",
       "          Strength  \n",
       "count  1030.000000  \n",
       "mean     35.817961  \n",
       "std      16.705742  \n",
       "min       2.330000  \n",
       "25%      23.710000  \n",
       "50%      34.445000  \n",
       "75%      46.135000  \n",
       "max      82.600000  "
      ]
     },
     "execution_count": 26,
     "metadata": {},
     "output_type": "execute_result"
    }
   ],
   "source": [
    "concrete_data.describe()"
   ]
  },
  {
   "cell_type": "code",
   "execution_count": 27,
   "metadata": {
    "button": false,
    "new_sheet": false,
    "run_control": {
     "read_only": false
    }
   },
   "outputs": [
    {
     "data": {
      "text/plain": [
       "Cement                0\n",
       "Blast Furnace Slag    0\n",
       "Fly Ash               0\n",
       "Water                 0\n",
       "Superplasticizer      0\n",
       "Coarse Aggregate      0\n",
       "Fine Aggregate        0\n",
       "Age                   0\n",
       "Strength              0\n",
       "dtype: int64"
      ]
     },
     "execution_count": 27,
     "metadata": {},
     "output_type": "execute_result"
    }
   ],
   "source": [
    "concrete_data.isnull().sum()"
   ]
  },
  {
   "cell_type": "markdown",
   "metadata": {
    "button": false,
    "new_sheet": false,
    "run_control": {
     "read_only": false
    }
   },
   "source": [
    "Los datos lucen limpios y prontos para ser utilizados en la construcción del modelo."
   ]
  },
  {
   "cell_type": "markdown",
   "metadata": {
    "button": false,
    "new_sheet": false,
    "run_control": {
     "read_only": false
    }
   },
   "source": [
    "#### Dividimos los datos en predictores y target (objetivo)\n"
   ]
  },
  {
   "cell_type": "markdown",
   "metadata": {},
   "source": [
    "La variable objetivo en este problema es strength; los predictores son las columnas restantes.\n"
   ]
  },
  {
   "cell_type": "code",
   "execution_count": 28,
   "metadata": {
    "button": false,
    "new_sheet": false,
    "run_control": {
     "read_only": false
    }
   },
   "outputs": [],
   "source": [
    "concrete_data_columns = concrete_data.columns\n",
    "\n",
    "predictors = concrete_data[concrete_data_columns[concrete_data_columns != 'Strength']] # all columns except Strength\n",
    "target = concrete_data['Strength'] # Strength column"
   ]
  },
  {
   "cell_type": "markdown",
   "metadata": {
    "button": false,
    "new_sheet": false,
    "run_control": {
     "read_only": false
    }
   },
   "source": [
    "<a id=\"item2\"></a>\n"
   ]
  },
  {
   "cell_type": "markdown",
   "metadata": {
    "button": false,
    "new_sheet": false,
    "run_control": {
     "read_only": false
    }
   },
   "source": [
    "Sanity check:\n"
   ]
  },
  {
   "cell_type": "code",
   "execution_count": 29,
   "metadata": {
    "button": false,
    "new_sheet": false,
    "run_control": {
     "read_only": false
    }
   },
   "outputs": [
    {
     "data": {
      "text/html": [
       "<div>\n",
       "<style scoped>\n",
       "    .dataframe tbody tr th:only-of-type {\n",
       "        vertical-align: middle;\n",
       "    }\n",
       "\n",
       "    .dataframe tbody tr th {\n",
       "        vertical-align: top;\n",
       "    }\n",
       "\n",
       "    .dataframe thead th {\n",
       "        text-align: right;\n",
       "    }\n",
       "</style>\n",
       "<table border=\"1\" class=\"dataframe\">\n",
       "  <thead>\n",
       "    <tr style=\"text-align: right;\">\n",
       "      <th></th>\n",
       "      <th>Cement</th>\n",
       "      <th>Blast Furnace Slag</th>\n",
       "      <th>Fly Ash</th>\n",
       "      <th>Water</th>\n",
       "      <th>Superplasticizer</th>\n",
       "      <th>Coarse Aggregate</th>\n",
       "      <th>Fine Aggregate</th>\n",
       "      <th>Age</th>\n",
       "    </tr>\n",
       "  </thead>\n",
       "  <tbody>\n",
       "    <tr>\n",
       "      <th>0</th>\n",
       "      <td>540.0</td>\n",
       "      <td>0.0</td>\n",
       "      <td>0.0</td>\n",
       "      <td>162.0</td>\n",
       "      <td>2.5</td>\n",
       "      <td>1040.0</td>\n",
       "      <td>676.0</td>\n",
       "      <td>28</td>\n",
       "    </tr>\n",
       "    <tr>\n",
       "      <th>1</th>\n",
       "      <td>540.0</td>\n",
       "      <td>0.0</td>\n",
       "      <td>0.0</td>\n",
       "      <td>162.0</td>\n",
       "      <td>2.5</td>\n",
       "      <td>1055.0</td>\n",
       "      <td>676.0</td>\n",
       "      <td>28</td>\n",
       "    </tr>\n",
       "    <tr>\n",
       "      <th>2</th>\n",
       "      <td>332.5</td>\n",
       "      <td>142.5</td>\n",
       "      <td>0.0</td>\n",
       "      <td>228.0</td>\n",
       "      <td>0.0</td>\n",
       "      <td>932.0</td>\n",
       "      <td>594.0</td>\n",
       "      <td>270</td>\n",
       "    </tr>\n",
       "    <tr>\n",
       "      <th>3</th>\n",
       "      <td>332.5</td>\n",
       "      <td>142.5</td>\n",
       "      <td>0.0</td>\n",
       "      <td>228.0</td>\n",
       "      <td>0.0</td>\n",
       "      <td>932.0</td>\n",
       "      <td>594.0</td>\n",
       "      <td>365</td>\n",
       "    </tr>\n",
       "    <tr>\n",
       "      <th>4</th>\n",
       "      <td>198.6</td>\n",
       "      <td>132.4</td>\n",
       "      <td>0.0</td>\n",
       "      <td>192.0</td>\n",
       "      <td>0.0</td>\n",
       "      <td>978.4</td>\n",
       "      <td>825.5</td>\n",
       "      <td>360</td>\n",
       "    </tr>\n",
       "  </tbody>\n",
       "</table>\n",
       "</div>"
      ],
      "text/plain": [
       "   Cement  Blast Furnace Slag  Fly Ash  Water  Superplasticizer  \\\n",
       "0   540.0                 0.0      0.0  162.0               2.5   \n",
       "1   540.0                 0.0      0.0  162.0               2.5   \n",
       "2   332.5               142.5      0.0  228.0               0.0   \n",
       "3   332.5               142.5      0.0  228.0               0.0   \n",
       "4   198.6               132.4      0.0  192.0               0.0   \n",
       "\n",
       "   Coarse Aggregate  Fine Aggregate  Age  \n",
       "0            1040.0           676.0   28  \n",
       "1            1055.0           676.0   28  \n",
       "2             932.0           594.0  270  \n",
       "3             932.0           594.0  365  \n",
       "4             978.4           825.5  360  "
      ]
     },
     "execution_count": 29,
     "metadata": {},
     "output_type": "execute_result"
    }
   ],
   "source": [
    "predictors.head()"
   ]
  },
  {
   "cell_type": "code",
   "execution_count": 30,
   "metadata": {
    "button": false,
    "new_sheet": false,
    "run_control": {
     "read_only": false
    }
   },
   "outputs": [
    {
     "data": {
      "text/plain": [
       "0    79.99\n",
       "1    61.89\n",
       "2    40.27\n",
       "3    41.05\n",
       "4    44.30\n",
       "Name: Strength, dtype: float64"
      ]
     },
     "execution_count": 30,
     "metadata": {},
     "output_type": "execute_result"
    }
   ],
   "source": [
    "target.head()"
   ]
  },
  {
   "cell_type": "markdown",
   "metadata": {
    "button": false,
    "new_sheet": false,
    "run_control": {
     "read_only": false
    }
   },
   "source": [
    "El último paso es normalizar los datos restando la media y dividiendo por la desviación estándar.\n"
   ]
  },
  {
   "cell_type": "code",
   "execution_count": 31,
   "metadata": {
    "button": false,
    "new_sheet": false,
    "run_control": {
     "read_only": false
    },
    "scrolled": true
   },
   "outputs": [
    {
     "data": {
      "text/html": [
       "<div>\n",
       "<style scoped>\n",
       "    .dataframe tbody tr th:only-of-type {\n",
       "        vertical-align: middle;\n",
       "    }\n",
       "\n",
       "    .dataframe tbody tr th {\n",
       "        vertical-align: top;\n",
       "    }\n",
       "\n",
       "    .dataframe thead th {\n",
       "        text-align: right;\n",
       "    }\n",
       "</style>\n",
       "<table border=\"1\" class=\"dataframe\">\n",
       "  <thead>\n",
       "    <tr style=\"text-align: right;\">\n",
       "      <th></th>\n",
       "      <th>Cement</th>\n",
       "      <th>Blast Furnace Slag</th>\n",
       "      <th>Fly Ash</th>\n",
       "      <th>Water</th>\n",
       "      <th>Superplasticizer</th>\n",
       "      <th>Coarse Aggregate</th>\n",
       "      <th>Fine Aggregate</th>\n",
       "      <th>Age</th>\n",
       "    </tr>\n",
       "  </thead>\n",
       "  <tbody>\n",
       "    <tr>\n",
       "      <th>0</th>\n",
       "      <td>2.476712</td>\n",
       "      <td>-0.856472</td>\n",
       "      <td>-0.846733</td>\n",
       "      <td>-0.916319</td>\n",
       "      <td>-0.620147</td>\n",
       "      <td>0.862735</td>\n",
       "      <td>-1.217079</td>\n",
       "      <td>-0.279597</td>\n",
       "    </tr>\n",
       "    <tr>\n",
       "      <th>1</th>\n",
       "      <td>2.476712</td>\n",
       "      <td>-0.856472</td>\n",
       "      <td>-0.846733</td>\n",
       "      <td>-0.916319</td>\n",
       "      <td>-0.620147</td>\n",
       "      <td>1.055651</td>\n",
       "      <td>-1.217079</td>\n",
       "      <td>-0.279597</td>\n",
       "    </tr>\n",
       "    <tr>\n",
       "      <th>2</th>\n",
       "      <td>0.491187</td>\n",
       "      <td>0.795140</td>\n",
       "      <td>-0.846733</td>\n",
       "      <td>2.174405</td>\n",
       "      <td>-1.038638</td>\n",
       "      <td>-0.526262</td>\n",
       "      <td>-2.239829</td>\n",
       "      <td>3.551340</td>\n",
       "    </tr>\n",
       "    <tr>\n",
       "      <th>3</th>\n",
       "      <td>0.491187</td>\n",
       "      <td>0.795140</td>\n",
       "      <td>-0.846733</td>\n",
       "      <td>2.174405</td>\n",
       "      <td>-1.038638</td>\n",
       "      <td>-0.526262</td>\n",
       "      <td>-2.239829</td>\n",
       "      <td>5.055221</td>\n",
       "    </tr>\n",
       "    <tr>\n",
       "      <th>4</th>\n",
       "      <td>-0.790075</td>\n",
       "      <td>0.678079</td>\n",
       "      <td>-0.846733</td>\n",
       "      <td>0.488555</td>\n",
       "      <td>-1.038638</td>\n",
       "      <td>0.070492</td>\n",
       "      <td>0.647569</td>\n",
       "      <td>4.976069</td>\n",
       "    </tr>\n",
       "  </tbody>\n",
       "</table>\n",
       "</div>"
      ],
      "text/plain": [
       "     Cement  Blast Furnace Slag   Fly Ash     Water  Superplasticizer  \\\n",
       "0  2.476712           -0.856472 -0.846733 -0.916319         -0.620147   \n",
       "1  2.476712           -0.856472 -0.846733 -0.916319         -0.620147   \n",
       "2  0.491187            0.795140 -0.846733  2.174405         -1.038638   \n",
       "3  0.491187            0.795140 -0.846733  2.174405         -1.038638   \n",
       "4 -0.790075            0.678079 -0.846733  0.488555         -1.038638   \n",
       "\n",
       "   Coarse Aggregate  Fine Aggregate       Age  \n",
       "0          0.862735       -1.217079 -0.279597  \n",
       "1          1.055651       -1.217079 -0.279597  \n",
       "2         -0.526262       -2.239829  3.551340  \n",
       "3         -0.526262       -2.239829  5.055221  \n",
       "4          0.070492        0.647569  4.976069  "
      ]
     },
     "execution_count": 31,
     "metadata": {},
     "output_type": "execute_result"
    }
   ],
   "source": [
    "predictors_norm = (predictors - predictors.mean()) / predictors.std()\n",
    "predictors_norm.head()"
   ]
  },
  {
   "cell_type": "markdown",
   "metadata": {},
   "source": [
    "Guardemos el número de predictores en _n_cols_ ya que necesitaremos este número para construir la red.\n"
   ]
  },
  {
   "cell_type": "code",
   "execution_count": 32,
   "metadata": {
    "button": false,
    "new_sheet": false,
    "run_control": {
     "read_only": false
    }
   },
   "outputs": [
    {
     "data": {
      "text/plain": [
       "8"
      ]
     },
     "execution_count": 32,
     "metadata": {},
     "output_type": "execute_result"
    }
   ],
   "source": [
    "n_cols = predictors_norm.shape[1] # number of predictors\n",
    "n_cols"
   ]
  },
  {
   "cell_type": "markdown",
   "metadata": {
    "button": false,
    "new_sheet": false,
    "run_control": {
     "read_only": false
    }
   },
   "source": [
    "<a id=\"item1\"></a>\n"
   ]
  },
  {
   "cell_type": "markdown",
   "metadata": {},
   "source": [
    "<a id='item32'></a>\n"
   ]
  },
  {
   "cell_type": "markdown",
   "metadata": {
    "button": false,
    "new_sheet": false,
    "run_control": {
     "read_only": false
    }
   },
   "source": [
    "## Importando Keras\n"
   ]
  },
  {
   "cell_type": "code",
   "execution_count": 33,
   "metadata": {
    "button": false,
    "new_sheet": false,
    "run_control": {
     "read_only": false
    }
   },
   "outputs": [],
   "source": [
    "import keras"
   ]
  },
  {
   "cell_type": "markdown",
   "metadata": {
    "button": false,
    "new_sheet": false,
    "run_control": {
     "read_only": false
    }
   },
   "source": [
    "Importemos el resto de los paquetes de la librería de Keras que necesitaremos para construir nuestro modelo de regresión.\n"
   ]
  },
  {
   "cell_type": "code",
   "execution_count": 34,
   "metadata": {
    "button": false,
    "new_sheet": false,
    "run_control": {
     "read_only": false
    }
   },
   "outputs": [],
   "source": [
    "from keras.models import Sequential\n",
    "from keras.layers import Dense"
   ]
  },
  {
   "cell_type": "markdown",
   "metadata": {},
   "source": [
    "<a id='item33'></a>\n"
   ]
  },
  {
   "cell_type": "markdown",
   "metadata": {
    "button": false,
    "new_sheet": false,
    "run_control": {
     "read_only": false
    }
   },
   "source": [
    "## Construyendo una red neuronal\n"
   ]
  },
  {
   "cell_type": "markdown",
   "metadata": {
    "button": false,
    "new_sheet": false,
    "run_control": {
     "read_only": false
    }
   },
   "source": [
    "Crearemos una función que define nuestro modelo de regresión para llamarla cuando necesitemos crear el modelo.\n",
    "\n"
   ]
  },
  {
   "cell_type": "code",
   "execution_count": 35,
   "metadata": {
    "button": false,
    "new_sheet": false,
    "run_control": {
     "read_only": false
    }
   },
   "outputs": [],
   "source": [
    "# definimos el modelo de regresión\n",
    "def regression_model():\n",
    "    # creamos el modelo\n",
    "    model = Sequential()\n",
    "    model.add(Dense(50, activation='relu', input_shape=(n_cols,)))\n",
    "    model.add(Dense(50, activation='relu'))\n",
    "    model.add(Dense(1))\n",
    "    \n",
    "    # compilamos el modelo\n",
    "    model.compile(optimizer='adam', loss='mean_squared_error',metrics=['mse'])\n",
    "    return model"
   ]
  },
  {
   "cell_type": "markdown",
   "metadata": {},
   "source": [
    "La función de arriba crea un modelo que tiene 2 capas ocultas, cada una de 50 unidades."
   ]
  },
  {
   "cell_type": "markdown",
   "metadata": {
    "button": false,
    "new_sheet": false,
    "run_control": {
     "read_only": false
    }
   },
   "source": [
    "<a id=\"item4\"></a>\n"
   ]
  },
  {
   "cell_type": "markdown",
   "metadata": {},
   "source": [
    "<a id='item34'></a>\n"
   ]
  },
  {
   "cell_type": "markdown",
   "metadata": {
    "button": false,
    "new_sheet": false,
    "run_control": {
     "read_only": false
    }
   },
   "source": [
    "## Entrenando y teseteando la red\n"
   ]
  },
  {
   "cell_type": "markdown",
   "metadata": {},
   "source": [
    "Llamemos a la función para crear nuestro modelo.\n"
   ]
  },
  {
   "cell_type": "code",
   "execution_count": 36,
   "metadata": {
    "button": false,
    "new_sheet": false,
    "run_control": {
     "read_only": false
    }
   },
   "outputs": [],
   "source": [
    "# construimos el modelo\n",
    "model = regression_model()"
   ]
  },
  {
   "cell_type": "markdown",
   "metadata": {},
   "source": [
    "Entrenamos y testeamos el modelo al mismo tiempo usando el método _fit_. Dejaremos afuera el 30% de los datos para validación y entrenaremos el modelo para 100 epochs.\n"
   ]
  },
  {
   "cell_type": "code",
   "execution_count": 37,
   "metadata": {},
   "outputs": [
    {
     "name": "stdout",
     "output_type": "stream",
     "text": [
      "Epoch 1/100\n",
      "23/23 - 0s - loss: 1645.0375 - mse: 1645.0375 - val_loss: 1140.0239 - val_mse: 1140.0239\n",
      "Epoch 2/100\n",
      "23/23 - 0s - loss: 1497.7294 - mse: 1497.7294 - val_loss: 1002.9310 - val_mse: 1002.9310\n",
      "Epoch 3/100\n",
      "23/23 - 0s - loss: 1258.8268 - mse: 1258.8268 - val_loss: 796.2897 - val_mse: 796.2897\n",
      "Epoch 4/100\n",
      "23/23 - 0s - loss: 906.9604 - mse: 906.9604 - val_loss: 548.8319 - val_mse: 548.8319\n",
      "Epoch 5/100\n",
      "23/23 - 0s - loss: 541.5153 - mse: 541.5153 - val_loss: 337.9198 - val_mse: 337.9198\n",
      "Epoch 6/100\n",
      "23/23 - 0s - loss: 314.7509 - mse: 314.7509 - val_loss: 244.4211 - val_mse: 244.4211\n",
      "Epoch 7/100\n",
      "23/23 - 0s - loss: 246.3289 - mse: 246.3289 - val_loss: 209.5467 - val_mse: 209.5467\n",
      "Epoch 8/100\n",
      "23/23 - 0s - loss: 224.8444 - mse: 224.8444 - val_loss: 196.8851 - val_mse: 196.8851\n",
      "Epoch 9/100\n",
      "23/23 - 0s - loss: 210.1174 - mse: 210.1174 - val_loss: 189.5222 - val_mse: 189.5222\n",
      "Epoch 10/100\n",
      "23/23 - 0s - loss: 199.7482 - mse: 199.7482 - val_loss: 181.9310 - val_mse: 181.9310\n",
      "Epoch 11/100\n",
      "23/23 - 0s - loss: 192.5692 - mse: 192.5692 - val_loss: 179.7693 - val_mse: 179.7693\n",
      "Epoch 12/100\n",
      "23/23 - 0s - loss: 186.5996 - mse: 186.5996 - val_loss: 174.8552 - val_mse: 174.8552\n",
      "Epoch 13/100\n",
      "23/23 - 0s - loss: 180.4640 - mse: 180.4640 - val_loss: 172.8262 - val_mse: 172.8262\n",
      "Epoch 14/100\n",
      "23/23 - 0s - loss: 176.8947 - mse: 176.8947 - val_loss: 170.7351 - val_mse: 170.7351\n",
      "Epoch 15/100\n",
      "23/23 - 0s - loss: 171.1369 - mse: 171.1369 - val_loss: 167.9144 - val_mse: 167.9144\n",
      "Epoch 16/100\n",
      "23/23 - 0s - loss: 167.4676 - mse: 167.4676 - val_loss: 166.4206 - val_mse: 166.4206\n",
      "Epoch 17/100\n",
      "23/23 - 0s - loss: 164.2519 - mse: 164.2519 - val_loss: 163.8469 - val_mse: 163.8469\n",
      "Epoch 18/100\n",
      "23/23 - 0s - loss: 161.3182 - mse: 161.3182 - val_loss: 162.1014 - val_mse: 162.1014\n",
      "Epoch 19/100\n",
      "23/23 - 0s - loss: 158.6059 - mse: 158.6059 - val_loss: 161.7296 - val_mse: 161.7296\n",
      "Epoch 20/100\n",
      "23/23 - 0s - loss: 155.7378 - mse: 155.7378 - val_loss: 160.7417 - val_mse: 160.7417\n",
      "Epoch 21/100\n",
      "23/23 - 0s - loss: 153.7485 - mse: 153.7485 - val_loss: 161.1457 - val_mse: 161.1457\n",
      "Epoch 22/100\n",
      "23/23 - 0s - loss: 151.1324 - mse: 151.1324 - val_loss: 160.3431 - val_mse: 160.3431\n",
      "Epoch 23/100\n",
      "23/23 - 0s - loss: 149.6777 - mse: 149.6777 - val_loss: 160.5050 - val_mse: 160.5050\n",
      "Epoch 24/100\n",
      "23/23 - 0s - loss: 147.9031 - mse: 147.9031 - val_loss: 159.6143 - val_mse: 159.6143\n",
      "Epoch 25/100\n",
      "23/23 - 0s - loss: 145.5348 - mse: 145.5348 - val_loss: 161.5148 - val_mse: 161.5148\n",
      "Epoch 26/100\n",
      "23/23 - 0s - loss: 143.8971 - mse: 143.8971 - val_loss: 162.4106 - val_mse: 162.4106\n",
      "Epoch 27/100\n",
      "23/23 - 0s - loss: 142.4701 - mse: 142.4701 - val_loss: 162.4732 - val_mse: 162.4732\n",
      "Epoch 28/100\n",
      "23/23 - 0s - loss: 141.2752 - mse: 141.2752 - val_loss: 161.0438 - val_mse: 161.0438\n",
      "Epoch 29/100\n",
      "23/23 - 0s - loss: 140.3795 - mse: 140.3795 - val_loss: 161.7866 - val_mse: 161.7866\n",
      "Epoch 30/100\n",
      "23/23 - 0s - loss: 139.3523 - mse: 139.3523 - val_loss: 161.7902 - val_mse: 161.7902\n",
      "Epoch 31/100\n",
      "23/23 - 0s - loss: 137.3336 - mse: 137.3336 - val_loss: 161.9120 - val_mse: 161.9120\n",
      "Epoch 32/100\n",
      "23/23 - 0s - loss: 135.8684 - mse: 135.8684 - val_loss: 164.6957 - val_mse: 164.6957\n",
      "Epoch 33/100\n",
      "23/23 - 0s - loss: 134.6187 - mse: 134.6187 - val_loss: 162.9901 - val_mse: 162.9901\n",
      "Epoch 34/100\n",
      "23/23 - 0s - loss: 133.8626 - mse: 133.8626 - val_loss: 158.6812 - val_mse: 158.6812\n",
      "Epoch 35/100\n",
      "23/23 - 0s - loss: 131.7283 - mse: 131.7283 - val_loss: 163.6772 - val_mse: 163.6772\n",
      "Epoch 36/100\n",
      "23/23 - 0s - loss: 130.5025 - mse: 130.5025 - val_loss: 162.3166 - val_mse: 162.3166\n",
      "Epoch 37/100\n",
      "23/23 - 0s - loss: 129.3968 - mse: 129.3968 - val_loss: 162.4439 - val_mse: 162.4439\n",
      "Epoch 38/100\n",
      "23/23 - 0s - loss: 127.6178 - mse: 127.6178 - val_loss: 160.0848 - val_mse: 160.0848\n",
      "Epoch 39/100\n",
      "23/23 - 0s - loss: 126.6554 - mse: 126.6554 - val_loss: 159.5644 - val_mse: 159.5644\n",
      "Epoch 40/100\n",
      "23/23 - 0s - loss: 125.1309 - mse: 125.1309 - val_loss: 159.0527 - val_mse: 159.0527\n",
      "Epoch 41/100\n",
      "23/23 - 0s - loss: 123.9610 - mse: 123.9610 - val_loss: 159.6333 - val_mse: 159.6333\n",
      "Epoch 42/100\n",
      "23/23 - 0s - loss: 122.0746 - mse: 122.0746 - val_loss: 159.3293 - val_mse: 159.3293\n",
      "Epoch 43/100\n",
      "23/23 - 0s - loss: 121.1189 - mse: 121.1189 - val_loss: 157.1654 - val_mse: 157.1654\n",
      "Epoch 44/100\n",
      "23/23 - 0s - loss: 119.2585 - mse: 119.2585 - val_loss: 159.6537 - val_mse: 159.6537\n",
      "Epoch 45/100\n",
      "23/23 - 0s - loss: 117.9209 - mse: 117.9209 - val_loss: 160.4850 - val_mse: 160.4850\n",
      "Epoch 46/100\n",
      "23/23 - 0s - loss: 116.6665 - mse: 116.6665 - val_loss: 156.1938 - val_mse: 156.1938\n",
      "Epoch 47/100\n",
      "23/23 - 0s - loss: 114.5147 - mse: 114.5147 - val_loss: 155.4174 - val_mse: 155.4174\n",
      "Epoch 48/100\n",
      "23/23 - 0s - loss: 113.0471 - mse: 113.0471 - val_loss: 155.1287 - val_mse: 155.1287\n",
      "Epoch 49/100\n",
      "23/23 - 0s - loss: 111.4788 - mse: 111.4788 - val_loss: 153.7607 - val_mse: 153.7607\n",
      "Epoch 50/100\n",
      "23/23 - 0s - loss: 109.9107 - mse: 109.9107 - val_loss: 153.4644 - val_mse: 153.4644\n",
      "Epoch 51/100\n",
      "23/23 - 0s - loss: 107.7064 - mse: 107.7064 - val_loss: 156.4010 - val_mse: 156.4010\n",
      "Epoch 52/100\n",
      "23/23 - 0s - loss: 105.2803 - mse: 105.2803 - val_loss: 151.6752 - val_mse: 151.6752\n",
      "Epoch 53/100\n",
      "23/23 - 0s - loss: 102.2117 - mse: 102.2117 - val_loss: 151.6469 - val_mse: 151.6469\n",
      "Epoch 54/100\n",
      "23/23 - 0s - loss: 99.9471 - mse: 99.9471 - val_loss: 146.7345 - val_mse: 146.7345\n",
      "Epoch 55/100\n",
      "23/23 - 0s - loss: 96.8703 - mse: 96.8703 - val_loss: 144.9349 - val_mse: 144.9349\n",
      "Epoch 56/100\n",
      "23/23 - 0s - loss: 94.1301 - mse: 94.1301 - val_loss: 145.6064 - val_mse: 145.6064\n",
      "Epoch 57/100\n",
      "23/23 - 0s - loss: 92.1007 - mse: 92.1007 - val_loss: 143.0373 - val_mse: 143.0373\n",
      "Epoch 58/100\n",
      "23/23 - 0s - loss: 89.5975 - mse: 89.5975 - val_loss: 141.4160 - val_mse: 141.4160\n",
      "Epoch 59/100\n",
      "23/23 - 0s - loss: 86.8244 - mse: 86.8244 - val_loss: 136.4114 - val_mse: 136.4114\n",
      "Epoch 60/100\n",
      "23/23 - 0s - loss: 84.0391 - mse: 84.0391 - val_loss: 132.9072 - val_mse: 132.9072\n",
      "Epoch 61/100\n",
      "23/23 - 0s - loss: 81.0439 - mse: 81.0439 - val_loss: 127.9796 - val_mse: 127.9796\n",
      "Epoch 62/100\n",
      "23/23 - 0s - loss: 78.9883 - mse: 78.9883 - val_loss: 130.0963 - val_mse: 130.0963\n",
      "Epoch 63/100\n",
      "23/23 - 0s - loss: 76.2319 - mse: 76.2319 - val_loss: 124.5065 - val_mse: 124.5065\n",
      "Epoch 64/100\n",
      "23/23 - 0s - loss: 73.5580 - mse: 73.5580 - val_loss: 126.6477 - val_mse: 126.6477\n",
      "Epoch 65/100\n",
      "23/23 - 0s - loss: 72.6761 - mse: 72.6761 - val_loss: 132.9602 - val_mse: 132.9602\n",
      "Epoch 66/100\n",
      "23/23 - 0s - loss: 69.6825 - mse: 69.6825 - val_loss: 115.2297 - val_mse: 115.2297\n",
      "Epoch 67/100\n",
      "23/23 - 0s - loss: 67.5357 - mse: 67.5357 - val_loss: 117.0792 - val_mse: 117.0792\n",
      "Epoch 68/100\n",
      "23/23 - 0s - loss: 65.2266 - mse: 65.2266 - val_loss: 125.8491 - val_mse: 125.8491\n",
      "Epoch 69/100\n",
      "23/23 - 0s - loss: 63.5767 - mse: 63.5767 - val_loss: 112.2379 - val_mse: 112.2379\n",
      "Epoch 70/100\n",
      "23/23 - 0s - loss: 61.8696 - mse: 61.8696 - val_loss: 126.3469 - val_mse: 126.3469\n",
      "Epoch 71/100\n",
      "23/23 - 0s - loss: 59.4734 - mse: 59.4734 - val_loss: 118.3685 - val_mse: 118.3685\n",
      "Epoch 72/100\n",
      "23/23 - 0s - loss: 57.3161 - mse: 57.3161 - val_loss: 116.2863 - val_mse: 116.2863\n",
      "Epoch 73/100\n",
      "23/23 - 0s - loss: 56.0010 - mse: 56.0010 - val_loss: 120.2359 - val_mse: 120.2359\n",
      "Epoch 74/100\n",
      "23/23 - 0s - loss: 54.8145 - mse: 54.8145 - val_loss: 115.8643 - val_mse: 115.8643\n",
      "Epoch 75/100\n",
      "23/23 - 0s - loss: 53.3472 - mse: 53.3472 - val_loss: 111.3449 - val_mse: 111.3449\n",
      "Epoch 76/100\n",
      "23/23 - 0s - loss: 51.6884 - mse: 51.6884 - val_loss: 121.1467 - val_mse: 121.1467\n",
      "Epoch 77/100\n",
      "23/23 - 0s - loss: 51.4273 - mse: 51.4273 - val_loss: 111.6604 - val_mse: 111.6604\n",
      "Epoch 78/100\n",
      "23/23 - 0s - loss: 49.0005 - mse: 49.0005 - val_loss: 114.7366 - val_mse: 114.7366\n",
      "Epoch 79/100\n",
      "23/23 - 0s - loss: 48.5910 - mse: 48.5910 - val_loss: 104.1797 - val_mse: 104.1797\n",
      "Epoch 80/100\n",
      "23/23 - 0s - loss: 47.9539 - mse: 47.9539 - val_loss: 111.3876 - val_mse: 111.3876\n",
      "Epoch 81/100\n",
      "23/23 - 0s - loss: 45.8790 - mse: 45.8790 - val_loss: 123.1709 - val_mse: 123.1709\n",
      "Epoch 82/100\n",
      "23/23 - 0s - loss: 44.6447 - mse: 44.6447 - val_loss: 120.3556 - val_mse: 120.3556\n",
      "Epoch 83/100\n",
      "23/23 - 0s - loss: 44.0909 - mse: 44.0909 - val_loss: 127.6316 - val_mse: 127.6316\n",
      "Epoch 84/100\n",
      "23/23 - 0s - loss: 42.9683 - mse: 42.9683 - val_loss: 121.6795 - val_mse: 121.6795\n",
      "Epoch 85/100\n",
      "23/23 - 0s - loss: 42.3996 - mse: 42.3996 - val_loss: 112.6970 - val_mse: 112.6970\n"
     ]
    },
    {
     "name": "stdout",
     "output_type": "stream",
     "text": [
      "Epoch 86/100\n",
      "23/23 - 0s - loss: 41.4634 - mse: 41.4634 - val_loss: 116.9966 - val_mse: 116.9966\n",
      "Epoch 87/100\n",
      "23/23 - 0s - loss: 41.2495 - mse: 41.2495 - val_loss: 126.6615 - val_mse: 126.6615\n",
      "Epoch 88/100\n",
      "23/23 - 0s - loss: 40.2516 - mse: 40.2516 - val_loss: 121.6855 - val_mse: 121.6855\n",
      "Epoch 89/100\n",
      "23/23 - 0s - loss: 39.4056 - mse: 39.4056 - val_loss: 122.2474 - val_mse: 122.2474\n",
      "Epoch 90/100\n",
      "23/23 - 0s - loss: 38.6336 - mse: 38.6336 - val_loss: 118.3280 - val_mse: 118.3280\n",
      "Epoch 91/100\n",
      "23/23 - 0s - loss: 38.4374 - mse: 38.4374 - val_loss: 118.3810 - val_mse: 118.3810\n",
      "Epoch 92/100\n",
      "23/23 - 0s - loss: 37.9610 - mse: 37.9610 - val_loss: 137.6325 - val_mse: 137.6325\n",
      "Epoch 93/100\n",
      "23/23 - 0s - loss: 37.7209 - mse: 37.7209 - val_loss: 127.5167 - val_mse: 127.5167\n",
      "Epoch 94/100\n",
      "23/23 - 0s - loss: 36.9463 - mse: 36.9463 - val_loss: 120.8960 - val_mse: 120.8960\n",
      "Epoch 95/100\n",
      "23/23 - 0s - loss: 36.1867 - mse: 36.1867 - val_loss: 138.9015 - val_mse: 138.9015\n",
      "Epoch 96/100\n",
      "23/23 - 0s - loss: 35.6289 - mse: 35.6289 - val_loss: 118.8088 - val_mse: 118.8088\n",
      "Epoch 97/100\n",
      "23/23 - 0s - loss: 35.2043 - mse: 35.2043 - val_loss: 126.5454 - val_mse: 126.5454\n",
      "Epoch 98/100\n",
      "23/23 - 0s - loss: 35.1278 - mse: 35.1278 - val_loss: 143.4935 - val_mse: 143.4935\n",
      "Epoch 99/100\n",
      "23/23 - 0s - loss: 35.4169 - mse: 35.4169 - val_loss: 130.8900 - val_mse: 130.8900\n",
      "Epoch 100/100\n",
      "23/23 - 0s - loss: 34.0545 - mse: 34.0545 - val_loss: 120.5531 - val_mse: 120.5531\n"
     ]
    }
   ],
   "source": [
    "# ajustamos el modelo\n",
    "m = model.fit(predictors_norm, target, validation_split=0.3, epochs=100, verbose=2)"
   ]
  },
  {
   "cell_type": "markdown",
   "metadata": {
    "button": false,
    "new_sheet": false,
    "run_control": {
     "read_only": false
    }
   },
   "source": [
    "<strong>En este link [link](https://keras.io/models/sequential?cm_mmc=Email_Newsletter-_-Developer_Ed%2BTech-_-WW_WW-_-SkillsNetwork-Courses-IBMDeveloperSkillsNetwork-DL0101EN-SkillsNetwork-20718188&cm_mmca1=000026UJ&cm_mmca2=10006555&cm_mmca3=M12345678&cvosrc=email.Newsletter.M12345678&cvo_campaign=000026UJ&cm_mmc=Email_Newsletter-_-Developer_Ed%2BTech-_-WW_WW-_-SkillsNetwork-Courses-IBMDeveloperSkillsNetwork-DL0101EN-SkillsNetwork-20718188&cm_mmca1=000026UJ&cm_mmca2=10006555&cm_mmca3=M12345678&cvosrc=email.Newsletter.M12345678&cvo_campaign=000026UJ&cm_mmc=Email_Newsletter-_-Developer_Ed%2BTech-_-WW_WW-_-SkillsNetwork-Courses-IBMDeveloperSkillsNetwork-DL0101EN-SkillsNetwork-20718188&cm_mmca1=000026UJ&cm_mmca2=10006555&cm_mmca3=M12345678&cvosrc=email.Newsletter.M12345678&cvo_campaign=000026UJ) puede aprender acerca de otras funciones que puede usar para predicción o evaluación.</strong>\n"
   ]
  },
  {
   "cell_type": "markdown",
   "metadata": {
    "button": false,
    "new_sheet": false,
    "run_control": {
     "read_only": false
    }
   },
   "source": [
    "Puede variar los siguientes parámetros para mejorar la preformance:\n",
    "\n",
    "1. El número de neuronas en las capas ocultas.\n",
    "2. El número de capas ocultas.\n",
    "3. El número de epochs.\n"
   ]
  },
  {
   "cell_type": "code",
   "execution_count": 39,
   "metadata": {},
   "outputs": [
    {
     "data": {
      "text/plain": [
       "[1140.02392578125,\n",
       " 1002.9310302734375,\n",
       " 796.2897338867188,\n",
       " 548.8319091796875,\n",
       " 337.9198303222656,\n",
       " 244.421142578125,\n",
       " 209.54672241210938,\n",
       " 196.8850860595703,\n",
       " 189.5221710205078,\n",
       " 181.93096923828125,\n",
       " 179.76934814453125,\n",
       " 174.8551788330078,\n",
       " 172.8262176513672,\n",
       " 170.7350616455078,\n",
       " 167.91444396972656,\n",
       " 166.42063903808594,\n",
       " 163.84686279296875,\n",
       " 162.10140991210938,\n",
       " 161.72962951660156,\n",
       " 160.74169921875,\n",
       " 161.1456756591797,\n",
       " 160.34310913085938,\n",
       " 160.5050048828125,\n",
       " 159.61431884765625,\n",
       " 161.5148468017578,\n",
       " 162.41058349609375,\n",
       " 162.47320556640625,\n",
       " 161.0438232421875,\n",
       " 161.7865753173828,\n",
       " 161.79019165039062,\n",
       " 161.9120330810547,\n",
       " 164.6956787109375,\n",
       " 162.9900665283203,\n",
       " 158.6812286376953,\n",
       " 163.6772003173828,\n",
       " 162.3165740966797,\n",
       " 162.44390869140625,\n",
       " 160.0847625732422,\n",
       " 159.56442260742188,\n",
       " 159.0526885986328,\n",
       " 159.63328552246094,\n",
       " 159.32933044433594,\n",
       " 157.16543579101562,\n",
       " 159.65365600585938,\n",
       " 160.48504638671875,\n",
       " 156.1938018798828,\n",
       " 155.4173583984375,\n",
       " 155.128662109375,\n",
       " 153.7607421875,\n",
       " 153.46438598632812,\n",
       " 156.40098571777344,\n",
       " 151.67518615722656,\n",
       " 151.6469268798828,\n",
       " 146.7344970703125,\n",
       " 144.9348602294922,\n",
       " 145.6063995361328,\n",
       " 143.03732299804688,\n",
       " 141.41598510742188,\n",
       " 136.41139221191406,\n",
       " 132.9071807861328,\n",
       " 127.97959899902344,\n",
       " 130.09632873535156,\n",
       " 124.50654602050781,\n",
       " 126.64766693115234,\n",
       " 132.960205078125,\n",
       " 115.22968292236328,\n",
       " 117.0792465209961,\n",
       " 125.84908294677734,\n",
       " 112.2379379272461,\n",
       " 126.34687042236328,\n",
       " 118.3685302734375,\n",
       " 116.28633117675781,\n",
       " 120.23589324951172,\n",
       " 115.86431884765625,\n",
       " 111.34492492675781,\n",
       " 121.1467056274414,\n",
       " 111.66043090820312,\n",
       " 114.73656463623047,\n",
       " 104.17967224121094,\n",
       " 111.38756561279297,\n",
       " 123.1708984375,\n",
       " 120.35562133789062,\n",
       " 127.63162231445312,\n",
       " 121.67945861816406,\n",
       " 112.69699096679688,\n",
       " 116.99658966064453,\n",
       " 126.66146087646484,\n",
       " 121.68553161621094,\n",
       " 122.24742126464844,\n",
       " 118.32795715332031,\n",
       " 118.38095092773438,\n",
       " 137.63246154785156,\n",
       " 127.51666259765625,\n",
       " 120.89595031738281,\n",
       " 138.90150451660156,\n",
       " 118.80882263183594,\n",
       " 126.54535675048828,\n",
       " 143.49354553222656,\n",
       " 130.88995361328125,\n",
       " 120.5531234741211]"
      ]
     },
     "execution_count": 39,
     "metadata": {},
     "output_type": "execute_result"
    }
   ],
   "source": [
    "m.history['val_mse']\n",
    "#https://machinelearningmastery.com/custom-metrics-deep-learning-keras-python/"
   ]
  },
  {
   "cell_type": "code",
   "execution_count": 19,
   "metadata": {},
   "outputs": [
    {
     "ename": "TypeError",
     "evalue": "'History' object is not subscriptable",
     "output_type": "error",
     "traceback": [
      "\u001b[1;31m---------------------------------------------------------------------------\u001b[0m",
      "\u001b[1;31mTypeError\u001b[0m                                 Traceback (most recent call last)",
      "\u001b[1;32m<ipython-input-19-484aa8232cb2>\u001b[0m in \u001b[0;36m<module>\u001b[1;34m\u001b[0m\n\u001b[1;32m----> 1\u001b[1;33m \u001b[0mm\u001b[0m\u001b[1;33m[\u001b[0m\u001b[1;36m0\u001b[0m\u001b[1;33m]\u001b[0m\u001b[1;33m\u001b[0m\u001b[1;33m\u001b[0m\u001b[0m\n\u001b[0m",
      "\u001b[1;31mTypeError\u001b[0m: 'History' object is not subscriptable"
     ]
    }
   ],
   "source": [
    "m[0]"
   ]
  },
  {
   "cell_type": "code",
   "execution_count": null,
   "metadata": {},
   "outputs": [],
   "source": []
  }
 ],
 "metadata": {
  "kernelspec": {
   "display_name": "Python 3",
   "language": "python",
   "name": "python3"
  },
  "language_info": {
   "codemirror_mode": {
    "name": "ipython",
    "version": 3
   },
   "file_extension": ".py",
   "mimetype": "text/x-python",
   "name": "python",
   "nbconvert_exporter": "python",
   "pygments_lexer": "ipython3",
   "version": "3.8.5"
  }
 },
 "nbformat": 4,
 "nbformat_minor": 4
}
