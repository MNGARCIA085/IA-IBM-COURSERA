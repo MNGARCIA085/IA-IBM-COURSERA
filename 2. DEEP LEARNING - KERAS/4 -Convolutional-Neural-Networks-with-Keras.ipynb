{
 "cells": [
  {
   "cell_type": "markdown",
   "metadata": {},
   "source": [
    "<h1 align=center><font size = 5 color='red'>Redes neuronales convolucionales con Keras</font></h1>\n"
   ]
  },
  {
   "cell_type": "markdown",
   "metadata": {},
   "source": [
    "<h2>Redes neuronales convolucionales con Keras</h2>\n",
    "\n",
    "<h3>Objetivos<h3>    \n",
    "<h5> 1. Construir redes neuronales convolucionales</h5>\n",
    "<h5> 2. Redes convolucionales con una capa convolucional y de pooling.</h5>\n",
    "<h5> 3. Redes convolucionales con dos capas convolucional y de pooling.</h5>\n"
   ]
  },
  {
   "cell_type": "markdown",
   "metadata": {},
   "source": [
    "## Tabla de contenido\n",
    "\n",
    "<div class=\"alert alert-block alert-info\" style=\"margin-top: 20px\">\n",
    "\n",
    "<font size = 3>\n",
    "      \n",
    "1. <a href=\"#item41\">Importando los paquetes necesarios</a>   \n",
    "2. <a href=\"#item42\">Redes convolucionales con una capa convolucional y de pooling.</a>  \n",
    "3. <a href=\"#item43\">Redes convolucionales con dos capas convolucional y de pooling.</a>  \n",
    "\n",
    "</font>\n",
    "</div>\n"
   ]
  },
  {
   "cell_type": "markdown",
   "metadata": {},
   "source": [
    "<a id='item41'></a>\n"
   ]
  },
  {
   "cell_type": "markdown",
   "metadata": {},
   "source": [
    "## Importando los paquetes necesarios\n"
   ]
  },
  {
   "cell_type": "code",
   "execution_count": 1,
   "metadata": {},
   "outputs": [],
   "source": [
    "import keras\n",
    "from keras.models import Sequential\n",
    "from keras.layers import Dense\n",
    "from keras.utils import to_categorical"
   ]
  },
  {
   "cell_type": "markdown",
   "metadata": {},
   "source": [
    "Cuando trabajamps con redes neuronales convolucionales en particular, necesitamos los siguientes paquetes adicionales:\n",
    "\n"
   ]
  },
  {
   "cell_type": "code",
   "execution_count": 2,
   "metadata": {},
   "outputs": [],
   "source": [
    "from keras.layers.convolutional import Conv2D # para agregar capas convolucionales\n",
    "from keras.layers.convolutional import MaxPooling2D # para agregar capas de pooling\n",
    "from keras.layers import Flatten # para aplanar los datos para capas completamente conectadas"
   ]
  },
  {
   "cell_type": "markdown",
   "metadata": {},
   "source": [
    "<a id='item42'></a>\n"
   ]
  },
  {
   "cell_type": "markdown",
   "metadata": {},
   "source": [
    "## Capa convolucional con un conjunto de capas de convolución y pooling\n"
   ]
  },
  {
   "cell_type": "code",
   "execution_count": 3,
   "metadata": {},
   "outputs": [],
   "source": [
    "# importamos los datos\n",
    "from keras.datasets import mnist\n",
    "\n",
    "# cargamos los datos\n",
    "(X_train, y_train), (X_test, y_test) = mnist.load_data()\n",
    "\n",
    "# reshape to be [samples][pixels][width][height]\n",
    "X_train = X_train.reshape(X_train.shape[0], 28, 28, 1).astype('float32')\n",
    "X_test = X_test.reshape(X_test.shape[0], 28, 28, 1).astype('float32')"
   ]
  },
  {
   "cell_type": "markdown",
   "metadata": {},
   "source": [
    "Normalizamos los valores de pixeles entre 0 y 1.\n"
   ]
  },
  {
   "cell_type": "code",
   "execution_count": 4,
   "metadata": {},
   "outputs": [],
   "source": [
    "X_train = X_train / 255 # normlizamos los datos de entrenamiento\n",
    "X_test = X_test / 255 # normalizamos los datos de test"
   ]
  },
  {
   "cell_type": "markdown",
   "metadata": {},
   "source": [
    "Convertimos la variable objetivo (target) en categorías binarias\n"
   ]
  },
  {
   "cell_type": "code",
   "execution_count": 5,
   "metadata": {},
   "outputs": [],
   "source": [
    "y_train = to_categorical(y_train)\n",
    "y_test = to_categorical(y_test)\n",
    "\n",
    "num_classes = y_test.shape[1] # número de categorías"
   ]
  },
  {
   "cell_type": "markdown",
   "metadata": {},
   "source": [
    "Definimos una función que crea nuestro modelo. Comenzamos con un conjunto de capas convolucionales y de pooling.\n",
    "\n"
   ]
  },
  {
   "cell_type": "code",
   "execution_count": 6,
   "metadata": {},
   "outputs": [],
   "source": [
    "def convolutional_model():\n",
    "    \n",
    "    # creamos el modelo\n",
    "    model = Sequential()\n",
    "    model.add(Conv2D(16, (5, 5), strides=(1, 1), activation='relu', input_shape=(28, 28, 1)))\n",
    "    model.add(MaxPooling2D(pool_size=(2, 2), strides=(2, 2)))\n",
    "    \n",
    "    model.add(Flatten())\n",
    "    model.add(Dense(100, activation='relu'))\n",
    "    model.add(Dense(num_classes, activation='softmax'))\n",
    "    \n",
    "    # compilamos el modelo\n",
    "    model.compile(optimizer='adam', loss='categorical_crossentropy',  metrics=['accuracy'])\n",
    "    return model"
   ]
  },
  {
   "cell_type": "markdown",
   "metadata": {},
   "source": [
    "Llamamos a la función que crea el modelo, luego lo entrenamos y evaluamos.\n"
   ]
  },
  {
   "cell_type": "code",
   "execution_count": 7,
   "metadata": {},
   "outputs": [
    {
     "name": "stdout",
     "output_type": "stream",
     "text": [
      "Epoch 1/10\n",
      "300/300 - 15s - loss: 0.2762 - accuracy: 0.9243 - val_loss: 0.0882 - val_accuracy: 0.9738\n",
      "Epoch 2/10\n",
      "300/300 - 12s - loss: 0.0782 - accuracy: 0.9767 - val_loss: 0.0550 - val_accuracy: 0.9829\n",
      "Epoch 3/10\n",
      "300/300 - 12s - loss: 0.0544 - accuracy: 0.9838 - val_loss: 0.0456 - val_accuracy: 0.9846\n",
      "Epoch 4/10\n",
      "300/300 - 12s - loss: 0.0415 - accuracy: 0.9876 - val_loss: 0.0390 - val_accuracy: 0.9861\n",
      "Epoch 5/10\n",
      "300/300 - 12s - loss: 0.0331 - accuracy: 0.9905 - val_loss: 0.0384 - val_accuracy: 0.9871\n",
      "Epoch 6/10\n",
      "300/300 - 11s - loss: 0.0281 - accuracy: 0.9912 - val_loss: 0.0349 - val_accuracy: 0.9874\n",
      "Epoch 7/10\n",
      "300/300 - 12s - loss: 0.0232 - accuracy: 0.9930 - val_loss: 0.0345 - val_accuracy: 0.9878\n",
      "Epoch 8/10\n",
      "300/300 - 12s - loss: 0.0196 - accuracy: 0.9942 - val_loss: 0.0349 - val_accuracy: 0.9886\n",
      "Epoch 9/10\n",
      "300/300 - 12s - loss: 0.0154 - accuracy: 0.9954 - val_loss: 0.0371 - val_accuracy: 0.9872\n",
      "Epoch 10/10\n",
      "300/300 - 12s - loss: 0.0141 - accuracy: 0.9958 - val_loss: 0.0345 - val_accuracy: 0.9888\n",
      "Accuracy: 0.9887999892234802 \n",
      " Error: 1.1200010776519775\n"
     ]
    }
   ],
   "source": [
    "# construimos el modelo\n",
    "model = convolutional_model()\n",
    "\n",
    "# ajustamos el modelo\n",
    "model.fit(X_train, y_train, validation_data=(X_test, y_test), epochs=10, batch_size=200, verbose=2)\n",
    "\n",
    "# evaluamos el modelo\n",
    "scores = model.evaluate(X_test, y_test, verbose=0)\n",
    "print(\"Accuracy: {} \\n Error: {}\".format(scores[1], 100-scores[1]*100))"
   ]
  },
  {
   "cell_type": "markdown",
   "metadata": {},
   "source": [
    "* * *\n"
   ]
  },
  {
   "cell_type": "markdown",
   "metadata": {},
   "source": [
    "<a id='item43'></a>\n"
   ]
  },
  {
   "cell_type": "markdown",
   "metadata": {},
   "source": [
    "## Capa convolucional con 2 conjuntos de capas convolucionales y de pooling\n"
   ]
  },
  {
   "cell_type": "markdown",
   "metadata": {},
   "source": [
    "Redefinamos el modelo para que tenga 2 capas convolucionales y de pooling.\n"
   ]
  },
  {
   "cell_type": "code",
   "execution_count": 8,
   "metadata": {},
   "outputs": [],
   "source": [
    "def convolutional_model():\n",
    "    \n",
    "    # creamos el modelo\n",
    "    model = Sequential()\n",
    "    model.add(Conv2D(16, (5, 5), activation='relu', input_shape=(28, 28, 1)))\n",
    "    model.add(MaxPooling2D(pool_size=(2, 2), strides=(2, 2)))\n",
    "    \n",
    "    model.add(Conv2D(8, (2, 2), activation='relu'))\n",
    "    model.add(MaxPooling2D(pool_size=(2, 2), strides=(2, 2)))\n",
    "    \n",
    "    model.add(Flatten())\n",
    "    model.add(Dense(100, activation='relu'))\n",
    "    model.add(Dense(num_classes, activation='softmax'))\n",
    "    \n",
    "    # Compilamos el modelo\n",
    "    model.compile(optimizer='adam', loss='categorical_crossentropy',  metrics=['accuracy'])\n",
    "    return model"
   ]
  },
  {
   "cell_type": "markdown",
   "metadata": {},
   "source": [
    "Llamemos a la función para crear nuestra red y luego entrenémosla y evaluemos.\n"
   ]
  },
  {
   "cell_type": "code",
   "execution_count": 10,
   "metadata": {},
   "outputs": [
    {
     "name": "stdout",
     "output_type": "stream",
     "text": [
      "Epoch 1/10\n",
      "300/300 - 14s - loss: 0.4667 - accuracy: 0.8691 - val_loss: 0.1383 - val_accuracy: 0.9582\n",
      "Epoch 2/10\n",
      "300/300 - 13s - loss: 0.1117 - accuracy: 0.9663 - val_loss: 0.0798 - val_accuracy: 0.9774\n",
      "Epoch 3/10\n",
      "300/300 - 13s - loss: 0.0797 - accuracy: 0.9757 - val_loss: 0.0611 - val_accuracy: 0.9815\n",
      "Epoch 4/10\n",
      "300/300 - 13s - loss: 0.0640 - accuracy: 0.9803 - val_loss: 0.0521 - val_accuracy: 0.9849\n",
      "Epoch 5/10\n",
      "300/300 - 13s - loss: 0.0552 - accuracy: 0.9828 - val_loss: 0.0528 - val_accuracy: 0.9838\n",
      "Epoch 6/10\n",
      "300/300 - 13s - loss: 0.0478 - accuracy: 0.9855 - val_loss: 0.0428 - val_accuracy: 0.9865\n",
      "Epoch 7/10\n",
      "300/300 - 13s - loss: 0.0424 - accuracy: 0.9869 - val_loss: 0.0418 - val_accuracy: 0.9877\n",
      "Epoch 8/10\n",
      "300/300 - 13s - loss: 0.0392 - accuracy: 0.9882 - val_loss: 0.0420 - val_accuracy: 0.9873\n",
      "Epoch 9/10\n",
      "300/300 - 13s - loss: 0.0366 - accuracy: 0.9890 - val_loss: 0.0450 - val_accuracy: 0.9862\n",
      "Epoch 10/10\n",
      "300/300 - 13s - loss: 0.0322 - accuracy: 0.9903 - val_loss: 0.0389 - val_accuracy: 0.9874\n",
      "Accuracy: 0.9873999953269958 \n",
      " Error: 1.260000467300415\n"
     ]
    }
   ],
   "source": [
    "# construimos el modelo\n",
    "model = convolutional_model()\n",
    "\n",
    "# entrenamos el modelo\n",
    "model.fit(X_train, y_train, validation_data=(X_test, y_test), epochs=10, batch_size=200, verbose=2)\n",
    "\n",
    "# evaluamos el modelo\n",
    "scores = model.evaluate(X_test, y_test, verbose=0)\n",
    "print(\"Accuracy: {} \\n Error: {}\".format(scores[1], 100-scores[1]*100))"
   ]
  }
 ],
 "metadata": {
  "kernelspec": {
   "display_name": "Python 3",
   "language": "python",
   "name": "python3"
  },
  "language_info": {
   "codemirror_mode": {
    "name": "ipython",
    "version": 3
   },
   "file_extension": ".py",
   "mimetype": "text/x-python",
   "name": "python",
   "nbconvert_exporter": "python",
   "pygments_lexer": "ipython3",
   "version": "3.8.5"
  }
 },
 "nbformat": 4,
 "nbformat_minor": 4
}
